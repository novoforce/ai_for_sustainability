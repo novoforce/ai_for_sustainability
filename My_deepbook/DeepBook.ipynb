{
 "cells": [
  {
   "cell_type": "markdown",
   "metadata": {},
   "source": [
    "# DL101 Getting Started"
   ]
  },
  {
   "cell_type": "markdown",
   "metadata": {},
   "source": [
    "In this module we will be starting out with very basic mathematics and some python code to just get started with deep learning below will be few notebooks which will help in getting the basic concept right"
   ]
  },
  {
   "cell_type": "markdown",
   "metadata": {},
   "source": [
    "* [Python basics](./assets/notebooks/0207_MorePythonBasics.ipynb)\n",
    "* [Vectors Practical](./assets/notebooks/0207_Vectors.ipynb)\n",
    "* [Object oriented python](./assets/notebooks/oops_python.ipynb)"
   ]
  },
  {
   "cell_type": "markdown",
   "metadata": {},
   "source": [
    "# Expert Systems"
   ]
  },
  {
   "cell_type": "markdown",
   "metadata": {},
   "source": [
    "It is a piece of software which uses databases of expert knowledge to offer advice or make decisions in such areas as medical diagnosis.\n",
    "or simply we can say that a program which has many if else statements for a defined tasks.\n",
    "\n",
    "The expert systems have many applications like in synthesis of a drug, where after a drug is discovered and should be tested for its chemical constituents so we can encode these tests into a computer program and the computer program does the same job in the sequential order as stated by the domain expert(scientist).\n",
    "\n",
    "<img src=\"assets/images/expert_sys1.PNG\">\n",
    "<img src=\"assets/images/expert_sys2.PNG\">\n",
    "\n",
    "#### Limitations:\n",
    "\n",
    "* Lot of data which will be tedious to write an expert systems\n",
    "* The rules can be very complex\n",
    "* The rules can be sometimes be unknown like predicting a chances of patient being suffering from ebola\n",
    "\n",
    "So since these limitations of the expert systems paved a path for the era of machine learning we will be giving some examples of the data and its corresponding outcomes and make computer learn the co-relation between the data and the corresponding outputs by itself and to this we call machine learning.\n",
    "\n",
    "Now this co-relation between the data can be leaned by the some functions namely sigmoid,tan,cos,sin,exp,line,circle, $x^2$,$x^3$.....and many more functions which represents the family of functions and we are telling the computer use these functions one-by-one on the data and come up with some patterns by which we can get our job done.\n",
    "\n",
    "#### Why the ML has become successful ?\n",
    "* Availability of lot of data\n",
    "* Increasing amount of computing power at the cheaper cost\n",
    "\n",
    "\n",
    "\n"
   ]
  },
  {
   "cell_type": "markdown",
   "metadata": {},
   "source": [
    "# Jargon cloud\n",
    "<img src='assets/images/jargon_cloud.PNG'>"
   ]
  },
  {
   "cell_type": "markdown",
   "metadata": {},
   "source": [
    "# The 6 elements of Machine Learning\n",
    "* Data : The data can be images,text,csv,videos,logs etc\n",
    "* Task : Classification-Binary and Multi-label,Regression,Captioning,Object detection,Segmentation-Instance,semantic\n",
    "* Models: Algorithms like ANN,CNN,RNN,SVM,GANS,RandomForest,Auto-encoders etc should come up with functions which can better approximate the given problem\n",
    "* Loss: Binary,Cross-entropy,Mean-squared and the main task is to make the loss very low\n",
    "* Learning : Gradient Descent ++, Adagrad, RMSProp, Adam are some of the algorithms which help the learning(backpropagation) to happen.\n",
    "* Evaluation : We now have the trained model and we need to evaluate our model on new dataset and for that we have few metrics on which we can evaluate Precision,Recall,F1-score,Top-K\n",
    "\n",
    "We will always try to make a mapping between the 6 elements and new algorithms\n",
    "<img src='assets/images/jars.PNG'>\n",
    "\n",
    "* In most cases, our job:\n",
    "    * Data and task identification\n",
    "    * For eg: Helmet detection of motorists for identification of violations, locate number plate\n",
    "      and identify characters of the number plate.\n",
    "    * For eg: Analysing crop leaves to identify if the plant is diseased and classify which disease.\n",
    "* Mix & Match:\n",
    "    * Model, Loss, Learning, Evaluation\n",
    "    * These are pre-engineered tools, we should learn how to effectively apply them to\n",
    "        accomplish our tasks\n",
    "    * They can be tweaked to yield results in our favour, this is called Hyperparameter Tuning"
   ]
  },
  {
   "cell_type": "code",
   "execution_count": null,
   "metadata": {},
   "outputs": [],
   "source": []
  }
 ],
 "metadata": {
  "kernelspec": {
   "display_name": "Python 3",
   "language": "python",
   "name": "python3"
  },
  "language_info": {
   "codemirror_mode": {
    "name": "ipython",
    "version": 3
   },
   "file_extension": ".py",
   "mimetype": "text/x-python",
   "name": "python",
   "nbconvert_exporter": "python",
   "pygments_lexer": "ipython3",
   "version": "3.7.4"
  }
 },
 "nbformat": 4,
 "nbformat_minor": 4
}
