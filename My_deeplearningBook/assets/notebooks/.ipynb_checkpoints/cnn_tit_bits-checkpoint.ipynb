{
  "nbformat": 4,
  "nbformat_minor": 0,
  "metadata": {
    "colab": {
      "name": "cnn_tit_bits.ipynb",
      "provenance": [],
      "collapsed_sections": [],
      "toc_visible": true
    },
    "kernelspec": {
      "name": "python3",
      "display_name": "Python 3"
    },
    "widgets": {
      "application/vnd.jupyter.widget-state+json": {
        "e351be1a530a4aeca58ce89f820dccd1": {
          "model_module": "@jupyter-widgets/controls",
          "model_name": "HBoxModel",
          "state": {
            "_view_name": "HBoxView",
            "_dom_classes": [],
            "_model_name": "HBoxModel",
            "_view_module": "@jupyter-widgets/controls",
            "_model_module_version": "1.5.0",
            "_view_count": null,
            "_view_module_version": "1.5.0",
            "box_style": "",
            "layout": "IPY_MODEL_3de4f525ecff456f811e5d59b6692923",
            "_model_module": "@jupyter-widgets/controls",
            "children": [
              "IPY_MODEL_4296701180cc4b078d2eef5dd44ec04f",
              "IPY_MODEL_c56ff57aede8462a83564c0c1f8f925c"
            ]
          }
        },
        "3de4f525ecff456f811e5d59b6692923": {
          "model_module": "@jupyter-widgets/base",
          "model_name": "LayoutModel",
          "state": {
            "_view_name": "LayoutView",
            "grid_template_rows": null,
            "right": null,
            "justify_content": null,
            "_view_module": "@jupyter-widgets/base",
            "overflow": null,
            "_model_module_version": "1.2.0",
            "_view_count": null,
            "flex_flow": null,
            "width": null,
            "min_width": null,
            "border": null,
            "align_items": null,
            "bottom": null,
            "_model_module": "@jupyter-widgets/base",
            "top": null,
            "grid_column": null,
            "overflow_y": null,
            "overflow_x": null,
            "grid_auto_flow": null,
            "grid_area": null,
            "grid_template_columns": null,
            "flex": null,
            "_model_name": "LayoutModel",
            "justify_items": null,
            "grid_row": null,
            "max_height": null,
            "align_content": null,
            "visibility": null,
            "align_self": null,
            "height": null,
            "min_height": null,
            "padding": null,
            "grid_auto_rows": null,
            "grid_gap": null,
            "max_width": null,
            "order": null,
            "_view_module_version": "1.2.0",
            "grid_template_areas": null,
            "object_position": null,
            "object_fit": null,
            "grid_auto_columns": null,
            "margin": null,
            "display": null,
            "left": null
          }
        },
        "4296701180cc4b078d2eef5dd44ec04f": {
          "model_module": "@jupyter-widgets/controls",
          "model_name": "IntProgressModel",
          "state": {
            "_view_name": "ProgressView",
            "style": "IPY_MODEL_be3188ecc6a5401facdd094e1ae6b64c",
            "_dom_classes": [],
            "description": "",
            "_model_name": "IntProgressModel",
            "bar_style": "success",
            "max": 1,
            "_view_module": "@jupyter-widgets/controls",
            "_model_module_version": "1.5.0",
            "value": 1,
            "_view_count": null,
            "_view_module_version": "1.5.0",
            "orientation": "horizontal",
            "min": 0,
            "description_tooltip": null,
            "_model_module": "@jupyter-widgets/controls",
            "layout": "IPY_MODEL_73608172618f441d96cedf806c6bacba"
          }
        },
        "c56ff57aede8462a83564c0c1f8f925c": {
          "model_module": "@jupyter-widgets/controls",
          "model_name": "HTMLModel",
          "state": {
            "_view_name": "HTMLView",
            "style": "IPY_MODEL_e3e337ec0b664f329aad64a8cd1779d9",
            "_dom_classes": [],
            "description": "",
            "_model_name": "HTMLModel",
            "placeholder": "​",
            "_view_module": "@jupyter-widgets/controls",
            "_model_module_version": "1.5.0",
            "value": " 170500096/? [00:09&lt;00:00, 18209888.94it/s]",
            "_view_count": null,
            "_view_module_version": "1.5.0",
            "description_tooltip": null,
            "_model_module": "@jupyter-widgets/controls",
            "layout": "IPY_MODEL_cf950e3a9d284a5ca152206521b9ea2d"
          }
        },
        "be3188ecc6a5401facdd094e1ae6b64c": {
          "model_module": "@jupyter-widgets/controls",
          "model_name": "ProgressStyleModel",
          "state": {
            "_view_name": "StyleView",
            "_model_name": "ProgressStyleModel",
            "description_width": "initial",
            "_view_module": "@jupyter-widgets/base",
            "_model_module_version": "1.5.0",
            "_view_count": null,
            "_view_module_version": "1.2.0",
            "bar_color": null,
            "_model_module": "@jupyter-widgets/controls"
          }
        },
        "73608172618f441d96cedf806c6bacba": {
          "model_module": "@jupyter-widgets/base",
          "model_name": "LayoutModel",
          "state": {
            "_view_name": "LayoutView",
            "grid_template_rows": null,
            "right": null,
            "justify_content": null,
            "_view_module": "@jupyter-widgets/base",
            "overflow": null,
            "_model_module_version": "1.2.0",
            "_view_count": null,
            "flex_flow": null,
            "width": null,
            "min_width": null,
            "border": null,
            "align_items": null,
            "bottom": null,
            "_model_module": "@jupyter-widgets/base",
            "top": null,
            "grid_column": null,
            "overflow_y": null,
            "overflow_x": null,
            "grid_auto_flow": null,
            "grid_area": null,
            "grid_template_columns": null,
            "flex": null,
            "_model_name": "LayoutModel",
            "justify_items": null,
            "grid_row": null,
            "max_height": null,
            "align_content": null,
            "visibility": null,
            "align_self": null,
            "height": null,
            "min_height": null,
            "padding": null,
            "grid_auto_rows": null,
            "grid_gap": null,
            "max_width": null,
            "order": null,
            "_view_module_version": "1.2.0",
            "grid_template_areas": null,
            "object_position": null,
            "object_fit": null,
            "grid_auto_columns": null,
            "margin": null,
            "display": null,
            "left": null
          }
        },
        "e3e337ec0b664f329aad64a8cd1779d9": {
          "model_module": "@jupyter-widgets/controls",
          "model_name": "DescriptionStyleModel",
          "state": {
            "_view_name": "StyleView",
            "_model_name": "DescriptionStyleModel",
            "description_width": "",
            "_view_module": "@jupyter-widgets/base",
            "_model_module_version": "1.5.0",
            "_view_count": null,
            "_view_module_version": "1.2.0",
            "_model_module": "@jupyter-widgets/controls"
          }
        },
        "cf950e3a9d284a5ca152206521b9ea2d": {
          "model_module": "@jupyter-widgets/base",
          "model_name": "LayoutModel",
          "state": {
            "_view_name": "LayoutView",
            "grid_template_rows": null,
            "right": null,
            "justify_content": null,
            "_view_module": "@jupyter-widgets/base",
            "overflow": null,
            "_model_module_version": "1.2.0",
            "_view_count": null,
            "flex_flow": null,
            "width": null,
            "min_width": null,
            "border": null,
            "align_items": null,
            "bottom": null,
            "_model_module": "@jupyter-widgets/base",
            "top": null,
            "grid_column": null,
            "overflow_y": null,
            "overflow_x": null,
            "grid_auto_flow": null,
            "grid_area": null,
            "grid_template_columns": null,
            "flex": null,
            "_model_name": "LayoutModel",
            "justify_items": null,
            "grid_row": null,
            "max_height": null,
            "align_content": null,
            "visibility": null,
            "align_self": null,
            "height": null,
            "min_height": null,
            "padding": null,
            "grid_auto_rows": null,
            "grid_gap": null,
            "max_width": null,
            "order": null,
            "_view_module_version": "1.2.0",
            "grid_template_areas": null,
            "object_position": null,
            "object_fit": null,
            "grid_auto_columns": null,
            "margin": null,
            "display": null,
            "left": null
          }
        }
      }
    },
    "accelerator": "GPU"
  },
  "cells": [
    {
      "cell_type": "markdown",
      "metadata": {
        "id": "K3yEFFfxS62M",
        "colab_type": "text"
      },
      "source": [
        "# What we have seen so far ?\n",
        "We saw that ANN are powerful function approximators and can be trained using backpropagation.\n",
        "ANN are also called as fully-connected networks which simply means that all the neurons are inter-connected.\n",
        "\n",
        "<img src='https://www.codeproject.com/KB/AI/1261763/artificial_neural_network.png'>\n",
        "\n",
        "# <u>Disadvantages of ANN/DNN: </u>\n",
        "\n",
        "* They are prone to Overfitting.\n",
        "* Vanishing gradient problem where the gradient vanishes after a series of weight updates\n",
        "$\\frac{\\partial L}{\\partial w_131} = \\frac{\\partial L}{\\partial \\hat{y_2}}\\;.\\frac{\\partial \\hat{y_2}}{\\partial a_2}\\;. \\frac{\\partial a_2}{\\partial h_3}\\;.\n",
        "\\frac{\\partial h_3}{\\partial a_4}\\;.\\frac{\\partial a_4}{\\partial w_131}$ and finally the gradient vanishes.\n",
        "\n",
        "#### <u>To counter the disadvantages </u>\n",
        "\n",
        "* Better weight initializations\n",
        "* Better Optimizers\n",
        "* Better Activation functions\n",
        "* Regualarization methods\n",
        "\n",
        "## <u>Introduction to CNN </u>\n",
        "Now the question is can we have DNN's which are complex enough but at the same time have less parameters so that overfitting can be minimized and thus here the scope of CNN comes into picture.\n",
        "\n",
        "\n",
        "#### <u>What do convolutions do ? </u>\n",
        "A very simple mathematical operation of computing the weighted average of all my previous neighbours to determine the current value\n",
        "\n",
        "[Covolution operation](https://en.wikipedia.org/wiki/Convolution)\n",
        "\n",
        "So the convolution operation looks like:\n",
        "$S_{ij} = (I*K)_{ij} = \\sum_{a=0}^{m-1}\\sum_{b=0}^{n-1}I_{i+a},I_{i+b}K_{a,b}$\n",
        "\n",
        "Here $I$ is called the input image and $K$ is called the kernel or weight matrix and $*$ is the convolution operation.\n",
        "\n",
        "<img src='https://ujwlkarn.files.wordpress.com/2016/07/convolution_schematic.gif?w=268&h=196'>\n",
        "\n",
        "In the above gif green area is the input image vector and yellow is the Kernal and pink is the result of the convolution operation.\n",
        "\n",
        "Some convolution operations:\n",
        "\n",
        "<img src='https://github.com/novoforce/ai_for_sustainability/blob/master/My_deepbook/assets/images/blur.png?raw=true'>\n",
        "\n",
        "<img src='https://github.com/novoforce/ai_for_sustainability/blob/master/My_deepbook/assets/images/sharp.png?raw=true'>\n",
        "\n",
        "<img src='https://github.com/novoforce/ai_for_sustainability/blob/master/My_deepbook/assets/images/edge.png?raw=true'>\n",
        "\n",
        "### <u>The Convolution Operation </u>\n",
        "How the convolution is happening over a image is given below:\n",
        "\n",
        "<img src='https://miro.medium.com/max/1280/1*C_rDXqPy0lzv9549g1i-0A.gif'>\n",
        "\n",
        "The convolution in happening at the channel space:\n",
        "\n",
        "<img src='https://github.com/novoforce/ai_for_sustainability/blob/master/My_deepbook/assets/images/cnn_calc.png?raw=true'>\n",
        "\n",
        "So after the series of convolutions:\n",
        "\n",
        "<img src='https://github.com/novoforce/ai_for_sustainability/blob/master/My_deepbook/assets/images/2d_convolution.png?raw=true'>\n",
        "\n",
        "**Note:**\n",
        "* The input is 3D\n",
        "* The filter/kernel is also 3D\n",
        "* The convolution operation is 2D as the sliding is happening only horizontally & vertically but not along the depth\n",
        "\n",
        "* So the depth remains the same.\n",
        "\n",
        "Since there are multiple 3D filters giving output as 2D, After combining the output 2D filters we get the 3d output which now as the depth dimension equal to the no of filters.\n",
        "\n",
        "### <u>Terminology: </u>\n",
        "\n",
        "<img src='https://github.com/novoforce/ai_for_sustainability/blob/master/My_deepbook/assets/images/in_out_wh.png?raw=true'>\n",
        "\n",
        "* Input: Width(W1) , Height(H1), Depth(D1)\n",
        "* Outut: Width(W2) , Height(H2), Depth(D2)\n",
        "* Spatial extent of filter = F (The size of the filter eg: (3x3),(5x5)... etc)\n",
        "* The number of filter: K\n",
        "* Padding: P \n",
        "* Stride: S\n",
        "\n",
        "### <u>Relation: </u>\n",
        "\n",
        "* $W_2=W_1-F+1$\n",
        "* $H_2=H_1-F+1$\n",
        "* $D_2 = D_1$\n",
        "\n",
        "So the conclusion is size of the input will decrease after applying the filters.\n",
        "\n",
        "<img src='https://github.com/novoforce/ai_for_sustainability/blob/master/My_deepbook/assets/images/pixelofinterest.png?raw=true'>\n",
        "\n",
        "After padding is included\n",
        "\n",
        "### <u>New Relation(with padding): </u>\n",
        "\n",
        "* $W_2=W_1-F+2P+1$\n",
        "* $H_2=H_1-F+2P+1$\n",
        "* $D_2 = D_1$\n",
        "\n",
        "Whenever the kernel is tranversing the input image it traverse with the stride=1 which means the kernel is going through each and every pixel of the input while convolving.\n",
        "We can have different strides as well, so the new relation with the strides are:\n",
        "\n",
        "\n",
        "* $W_2=\\frac{W_1-F+2P+1}{S}$\n",
        "* $H_2=\\frac{H_1-F+2P+1}{S}$\n",
        "* $D_2 = D_1$\n"
      ]
    },
    {
      "cell_type": "markdown",
      "metadata": {
        "id": "Jz6--HJxNKZ0",
        "colab_type": "text"
      },
      "source": [
        "# Relation between ANN and CNN\n",
        "The CNN is a special case of ANN. The ANN does the weighted sum along a single axis and the CNN does the weighted sum in 2-axis(usually) and n-axis(research stage).\n",
        "So to pass an image to ANN we have to flatten the image(coloured image-RGB) which is in 3D to 1D and then pass to the ANN and thus becomes fully connected network.\n",
        "\n",
        "In case of CNN, the network is not fully connected as only the certain areas of the input image is connected to the kernal and computationis done, So per layer parameters will be less in case of CNN.\n",
        "\n",
        "### What was before CNN ?\n",
        "Before the advent of CNN the feature engineering was one of the most important part of the Machine learning. \n",
        "In the below picture we can see different way by which the classification was used to happen in the context of DNN.\n",
        "<img src='https://github.com/novoforce/ai_for_sustainability/blob/master/My_deepbook/assets/images/beforecnn.png?raw=true'>\n",
        "\n",
        "As seen in the above pic:\n",
        "\n",
        "* Initially it was like an image(flattened) was passed to the classifier(ANN/DNN) and the corresponding class prediction was recorded.\n",
        "\n",
        "* Then instead of passing the whole flattened image to the classifier pre-processing was done, in this case the image is passed to an edge detector so as to get the edges from the image and thnen passed onto the classifier so that it can make prediction.\n",
        "\n",
        "* Then there came the idea of SIFT/HOG image processing algorithm which removes less relevant features and pass the filtered output to the classifier which does the classification.\n",
        "\n",
        "Now in these 3 cases we found that before the input to the classifier the input image is passed on to some image processing algorithm(some feature engineering techniques) where actually there is no learning happening and the learning is only happening at the final classifier stage.\n",
        "\n",
        "So this was how the era before CNN where feature engineering played the much bigger role in classification task than at this time.\n",
        "\n",
        "\n",
        "### So can we claim that the feature engineering which we did is perfect ?\n",
        "There is quite a good amount of uncertainity that whatever feature engineering which did may or may not produce good prediction. So can we make the final classifier learn those feature engineering parameters by itself.\n",
        "\n",
        "By feature engineering parameters I meant to say that can we learn these edge detector parameters like those in edge detectors or blur detectors... etc.\n",
        "\n",
        "The short answer is YES and instead of learning only a single feature detectors as in the previous case, now the classifier can itself learn as many feature detectors and backpropagate and minimize the final LOSS.\n",
        "\n",
        "<img src='https://github.com/novoforce/ai_for_sustainability/blob/master/My_deepbook/assets/images/multifeature.png?raw=true'>\n",
        "\n",
        "<img src='https://github.com/novoforce/ai_for_sustainability/blob/master/My_deepbook/assets/images/cnnfilters.png?raw=true'>\n",
        "\n",
        "So in nutshell we mention how many filters to use and the CNN learns the parameters in the filters and give hidden representations which will after backpropagation should minimize the overall loss. So in above image we have 3 filters blue,pink,purple and the hidden representation(feature map) are blue,pink,purple and are concatinated together to form a 3D feature representation of the input image.\n",
        "\n",
        "So instead of learning single feature representation we are learning multiple feature representation.\n",
        "\n",
        "To improve the model performance Why not add another layer of the feature detectors which in the similar fashion will learn another feature representation thus leading to better feature engineering called multiple layers of feature representation.\n",
        "\n",
        "### What are sparse connectivity and weight sharing ?\n",
        "\n",
        "#### Sparse Connectivity:\n",
        "In the below pic we are representing $2$ in the form of (4x4) pixels\n",
        "<img src='https://github.com/novoforce/ai_for_sustainability/blob/master/My_deepbook/assets/images/ann.png?raw=true'>\n",
        "In ANN/DNN all the neurons are connected to each other so called fully connected network\n",
        "\n",
        "\n",
        "<img src='https://github.com/novoforce/ai_for_sustainability/blob/master/My_deepbook/assets/images/cnn1.png?raw=true'>\n",
        "\n",
        "In CNN only some of the neurons are connected to each other so called sparse connectivity. For eg. in the below image while the kernel is convolving only the pixel 1,2,5,6 gets activated and thus forms $h_{11}$ similarly for $h_{12}$\n",
        "only the neurons 3,4,7,8 get activated.\n",
        "\n",
        "<img src='https://github.com/novoforce/ai_for_sustainability/blob/master/My_deepbook/assets/images/cnn2.png?raw=true'>\n",
        "\n",
        "<img src='https://github.com/novoforce/ai_for_sustainability/blob/master/My_deepbook/assets/images/cnn3.png?raw=true'>\n",
        "Thus we can conclude that CNN have Sparse connectivity.\n",
        "\n",
        "#### Weight Sharing:\n",
        "\n",
        "<img src='https://github.com/novoforce/ai_for_sustainability/blob/master/My_deepbook/assets/images/weightsharing.png?raw=true'>\n",
        "\n",
        "From the above image we can see that in CNN for a single layers weights are shared for the pixels (1,2,5,6) and (11,12,15,16) which is not in the case of ANN where for each neurons the weights would be different thus forming the concept of fully connected network.\n",
        "\n",
        "Thus we can conclude that weights are shared in CNN.\n",
        "\n",
        "Thus the important distinguishing feature CNN over the ANN is sparse connectivity and the weight sharing.\n",
        "\n",
        "Now contrasting the ANN and CNN architectures we see that ANN are very complex due to the presence of full connections thus leading to overfitting and this becomes the disadvantage as we cannot go deeper and also improve performance of the model.\n",
        "\n",
        "So the CNN has addressed issue by weight sharing and sparse connectivity architecture where the no of parameters to be learned is less and we can go deeper and deeper which many filters in the layers thus leading to better feature engineering and better performance of the model.\n",
        "\n",
        "#### <u>What is Pooling , MaxPooling.. etc </u>?\n",
        "\n",
        "<img src='https://static.javatpoint.com/tutorial/pytorch/images/pytorch-convolutional-neural-network.jpg'>\n",
        "\n",
        "<img src='https://computersciencewiki.org/images/8/8a/MaxpoolSample2.png'>\n",
        "\n",
        "$Pooling$ is the way by which we can downsample the previous input(feature map) so as to reduce the computation and reduce overfitting.\n",
        "By reducing overfitting I mean to say is that it will not allow unnecessary feature to be a part of the next feature map. So instead of learning of all the features with important as well as the unimportant features it will only learn the most highlighting feature(max pooling) from the current feature map and pass it forward to the network.\n",
        "\n",
        "We also have $Average Pooling$ which take the average of the pixel values instead of the max values from the feature map.\n",
        "\n",
        "\n",
        "\n",
        "\n",
        "\n",
        "\n",
        "\n",
        "\n",
        "\n",
        "\n"
      ]
    },
    {
      "cell_type": "markdown",
      "metadata": {
        "id": "JKTokWSyLVBa",
        "colab_type": "text"
      },
      "source": [
        "# A fully CNN Architecture(LeNet):\n",
        "\n",
        "<img src='https://github.com/novoforce/ai_for_sustainability/blob/master/My_deepbook/assets/images/lenet.png?raw=true'>\n",
        "\n",
        "**Input:**\n",
        "* The image takes 32x32 pixel inputs.\n",
        "* There is no depth component because the images are in black & white.\n",
        "* <u>Convolution Layer 1:</u>\n",
        "* Here, the filter size F = 5, and the central cell is the pixel of interest\n",
        "* Stride length S = 1\n",
        "* We use a total of 6 filters, i.e. K = 6\n",
        "* No padding is used, i.e. P = 0\n",
        "* Each of the filters generate 28x28 output (calculated using WO\n",
        ", HO\n",
        "formula).\n",
        "* Our hidden representation at this layer is a1 = 28x28x6 (DO = K).\n",
        "* Non-linearity like tanh or ReLU(preferred for CNN) is applied to a1 making it h1\n",
        "* If we were to proceed as a Fully Connected Network, we would have an extremely large\n",
        "number of parameters (32x32 x 28x28x6 = 4,816,896 parameters).\n",
        "* However in this sparsely connected network, each of the 6 filters is of size 5x5x1. So the\n",
        "number of parameters would be much more manageable (6 x 5x5x1 = 150 parameters).\n",
        "* This is significantly smaller than in a fully connected network, thereby reducing the chance of\n",
        "overfitting.\n",
        "* Here, the values F, S, K, P etc are all counted as hyperparameters.\n",
        "\n",
        "* <u>Max Pooling Layer 1:</u>\n",
        "* The hyperparameters are as follows\n",
        "* Filter size F = 2\n",
        "* Stride length S = 2\n",
        "* No. of filters K = 6\n",
        "* Padding P = 0\n",
        "* Here, from a 2x2 filter, we select only 1 value. Therefore for a stride of 2, the output\n",
        "dimensions are half of the input(h1\n",
        ") dimensions, i.e 14x14\n",
        "* We apply the max pooling independently to all 6 of the h1\n",
        "layers, giving us h2 = 14x14x6\n",
        "* No parameters for this layer as we are simply choosing the largest value in the filter and not\n",
        "applying any weights to it.\n",
        "\n",
        "<u>Convolutional Layer 2:</u>\n",
        "* The hyperparameters are as follows\n",
        "* Filter size F = 5\n",
        "* Stride length S = 1\n",
        "* No. of filters K = 16\n",
        "* Padding P = 0\n",
        "* Thus, the filter dimensions are 5x5x6\n",
        "* Here, 16 filters are applied to the input h2\n",
        ", thereby giving us an output depth of DO = 16\n",
        "* Calculating WO and HO using the formula, we get 10x10\n",
        "* Our hidden representation at this layer is a3 = 10x10x16\n",
        "* Non-linearity like tanh or ReLU(preferred for CNN) is applied to a3 making it h3\n",
        "* The number of parameters for the filters(16 x 5x5x6) is 2400 parameters\n",
        "* This is much smaller than what we would have had in a fully connected network\n",
        "\n",
        "<u>Max Pooling Layer 2:</u>\n",
        "* The hyperparameters are as follows\n",
        "* Filter size F = 2\n",
        "* Stride length S = 1\n",
        "* No. of filters K = 16\n",
        "* Padding P = 0\n",
        "* Here, from a 2x2 filter, we select only 1 value. Therefore for a stride of 2, the output\n",
        "dimensions are half of the input(h3\n",
        ") dimensions, i.e 14x14\n",
        "* We apply the max pooling independently to all 16 of the h1\n",
        "layers, giving us h4 = 5x5x16\n",
        "* No params for this layer as we are simply choosing the largest value in the filter.\n",
        "\n",
        "<u> Fully connected layer 1:</u>\n",
        "* Number of neurons: 120\n",
        "* Input is h4\n",
        "flattened, i.e. 5x5x16 = 400\n",
        "* No. of parameters in h5 = 120x400 + 120-bias = 48120 parameters\n",
        "\n",
        "<u> Fully connected layer 2:</u>\n",
        "* Number of neurons: 84\n",
        "* Input is number of neurons in h5 = 120\n",
        "* No. of parameters in h6 = 84x120 + 84-bias = 10164 parameters\n",
        "\n",
        "<u> Output layer:</u>\n",
        "* Number of neurons: 10\n",
        "* Input is number of neurons in h6 = 84\n",
        "* No. of parameters in y = 10x84 + 10-bias = 850 parameters\n",
        " \n",
        " \n",
        "Overall, this combination of Convolutional and fully-connected layers is much more efficient than\n",
        "an entirely fully connected network. It has a significantly lower number of parameters but still is\n",
        "able to estimate functions of very high complexity."
      ]
    },
    {
      "cell_type": "markdown",
      "metadata": {
        "id": "D0WggbGnNntx",
        "colab_type": "text"
      },
      "source": [
        "# Training a CNN\n",
        "\n",
        "<img src='https://github.com/novoforce/ai_for_sustainability/blob/master/My_deepbook/assets/images/ann_cnn.png?raw=true'>\n",
        "\n",
        "First figure is an ANN\n",
        "Second figure is a CNN\n",
        "\n",
        "A CNN can be implemented as a feed-forward network where only few weights are active(colored lines) and rest of the connections are zero(grayed out).\n",
        "\n",
        "In ANN the input will be flatened across each layers and will have full connection as in the first figure.\n",
        "\n",
        "While in a CNN the only a part of the input will be contributing to the next layer as most of the neurons are greyed out.\n",
        "\n",
        "For example in the case of ANN:\n",
        "The parameter $l$ will have contribution from $b,c,d,e,f,g,h,i,j$ as in the first figure\n",
        "\n",
        "While in case of CNN:\n",
        "The parameter $l$ will have contribution from only $b,c,e,f$ as in the second figure as relevent from the input.\n"
      ]
    },
    {
      "cell_type": "markdown",
      "metadata": {
        "id": "dvE10ZfNToc7",
        "colab_type": "text"
      },
      "source": [
        "# Pytorch CNN HandsOn"
      ]
    },
    {
      "cell_type": "code",
      "metadata": {
        "id": "k7IimmV9Ndhv",
        "colab_type": "code",
        "colab": {}
      },
      "source": [
        "#imports\n",
        "import torch\n",
        "import matplotlib.pyplot as plt\n",
        "import numpy as np"
      ],
      "execution_count": 0,
      "outputs": []
    },
    {
      "cell_type": "markdown",
      "metadata": {
        "id": "J3kBfEiFVv3L",
        "colab_type": "text"
      },
      "source": [
        "### Data loading"
      ]
    },
    {
      "cell_type": "code",
      "metadata": {
        "id": "t2BvyWTrVf9H",
        "colab_type": "code",
        "outputId": "f306cc9d-e685-4d72-ae5f-3753e7da71ce",
        "colab": {
          "base_uri": "https://localhost:8080/",
          "height": 83,
          "referenced_widgets": [
            "e351be1a530a4aeca58ce89f820dccd1",
            "3de4f525ecff456f811e5d59b6692923",
            "4296701180cc4b078d2eef5dd44ec04f",
            "c56ff57aede8462a83564c0c1f8f925c",
            "be3188ecc6a5401facdd094e1ae6b64c",
            "73608172618f441d96cedf806c6bacba",
            "e3e337ec0b664f329aad64a8cd1779d9",
            "cf950e3a9d284a5ca152206521b9ea2d"
          ]
        }
      },
      "source": [
        "import torchvision\n",
        "import torchvision.transforms as transforms\n",
        "trainset = torchvision.datasets.CIFAR10(root='./data', train=True, \n",
        "                                        download=True, \n",
        "                                        transform=transforms.ToTensor())"
      ],
      "execution_count": 2,
      "outputs": [
        {
          "output_type": "stream",
          "text": [
            "Downloading https://www.cs.toronto.edu/~kriz/cifar-10-python.tar.gz to ./data/cifar-10-python.tar.gz\n"
          ],
          "name": "stdout"
        },
        {
          "output_type": "display_data",
          "data": {
            "application/vnd.jupyter.widget-view+json": {
              "model_id": "e351be1a530a4aeca58ce89f820dccd1",
              "version_minor": 0,
              "version_major": 2
            },
            "text/plain": [
              "HBox(children=(IntProgress(value=1, bar_style='info', max=1), HTML(value='')))"
            ]
          },
          "metadata": {
            "tags": []
          }
        },
        {
          "output_type": "stream",
          "text": [
            "Extracting ./data/cifar-10-python.tar.gz to ./data\n"
          ],
          "name": "stdout"
        }
      ]
    },
    {
      "cell_type": "code",
      "metadata": {
        "id": "qkTN2Ol_V0aJ",
        "colab_type": "code",
        "colab": {}
      },
      "source": [
        "classes = ('plane', 'car', 'bird', 'cat', 'deer', 'dog', 'frog', 'horse', 'ship', 'truck')"
      ],
      "execution_count": 0,
      "outputs": []
    },
    {
      "cell_type": "code",
      "metadata": {
        "id": "cVr2dk-kWA-0",
        "colab_type": "code",
        "colab": {}
      },
      "source": [
        "trainloader = torch.utils.data.DataLoader(trainset, batch_size=4, shuffle=True)"
      ],
      "execution_count": 0,
      "outputs": []
    },
    {
      "cell_type": "code",
      "metadata": {
        "id": "GosIF3UuWTly",
        "colab_type": "code",
        "outputId": "5ec9e16a-6eea-4909-d7a8-3f7b77fdce0d",
        "colab": {
          "base_uri": "https://localhost:8080/",
          "height": 68
        }
      },
      "source": [
        "dataiter = iter(trainloader)\n",
        "images, labels = dataiter.next()\n",
        "\n",
        "print(images.shape)\n",
        "\n",
        "print(images[1].shape)\n",
        "print(labels[1].item())"
      ],
      "execution_count": 5,
      "outputs": [
        {
          "output_type": "stream",
          "text": [
            "torch.Size([4, 3, 32, 32])\n",
            "torch.Size([3, 32, 32])\n",
            "9\n"
          ],
          "name": "stdout"
        }
      ]
    },
    {
      "cell_type": "markdown",
      "metadata": {
        "id": "CUO-MaaqW5IK",
        "colab_type": "text"
      },
      "source": [
        "## Visualize the data"
      ]
    },
    {
      "cell_type": "code",
      "metadata": {
        "id": "bPu8w2yDWgxn",
        "colab_type": "code",
        "outputId": "250adcd7-121a-4ceb-e861-2d473623e57e",
        "colab": {
          "base_uri": "https://localhost:8080/",
          "height": 34
        }
      },
      "source": [
        "img = images[1]\n",
        "print(type(img))"
      ],
      "execution_count": 6,
      "outputs": [
        {
          "output_type": "stream",
          "text": [
            "<class 'torch.Tensor'>\n"
          ],
          "name": "stdout"
        }
      ]
    },
    {
      "cell_type": "code",
      "metadata": {
        "id": "ahPJGcYaXCkl",
        "colab_type": "code",
        "outputId": "ccb89abe-0fd6-475f-a967-a52c25f257d9",
        "colab": {
          "base_uri": "https://localhost:8080/",
          "height": 34
        }
      },
      "source": [
        "npimg = img.numpy()#for plotting we need to convert tensors into numpy\n",
        "print(npimg.shape)"
      ],
      "execution_count": 7,
      "outputs": [
        {
          "output_type": "stream",
          "text": [
            "(3, 32, 32)\n"
          ],
          "name": "stdout"
        }
      ]
    },
    {
      "cell_type": "code",
      "metadata": {
        "id": "BmMj8dASXQwh",
        "colab_type": "code",
        "outputId": "858ef805-33ec-40cd-877e-e2aee905b584",
        "colab": {
          "base_uri": "https://localhost:8080/",
          "height": 34
        }
      },
      "source": [
        "# for plotting we need to change the shape of the img to length,width,depth so for that we will transpose\n",
        "npimg = np.transpose(npimg, (1, 2, 0)) \n",
        "print(npimg.shape)"
      ],
      "execution_count": 8,
      "outputs": [
        {
          "output_type": "stream",
          "text": [
            "(32, 32, 3)\n"
          ],
          "name": "stdout"
        }
      ]
    },
    {
      "cell_type": "code",
      "metadata": {
        "id": "Fj7onx50XjHM",
        "colab_type": "code",
        "outputId": "c414bdb9-0143-4bb9-8516-24baad371ff7",
        "colab": {
          "base_uri": "https://localhost:8080/",
          "height": 122
        }
      },
      "source": [
        "plt.figure(figsize = (1,1))\n",
        "plt.imshow(npimg)\n",
        "plt.show()"
      ],
      "execution_count": 9,
      "outputs": [
        {
          "output_type": "stream",
          "text": [
            "\n"
          ],
          "name": "stdout"
        },
        {
          "output_type": "display_data",
          "data": {
            "image/png": "[encoded data removed]",
            "text/plain": [
              "<Figure size 72x72 with 1 Axes>"
            ]
          },
          "metadata": {
            "tags": [],
            "needs_background": "light"
          }
        }
      ]
    },
    {
      "cell_type": "code",
      "metadata": {
        "id": "gSB1kerbYCiL",
        "colab_type": "code",
        "colab": {}
      },
      "source": [
        "#functionazing the imshow \n",
        "def imshow(img):\n",
        "    npimg = img.numpy()\n",
        "    plt.imshow(np.transpose(npimg, (1, 2, 0)))\n",
        "    plt.show()"
      ],
      "execution_count": 0,
      "outputs": []
    },
    {
      "cell_type": "code",
      "metadata": {
        "id": "Cruji1XaYVls",
        "colab_type": "code",
        "outputId": "0cb87bc0-aff3-43d9-dae1-14cf84ece1b1",
        "colab": {
          "base_uri": "https://localhost:8080/",
          "height": 155
        }
      },
      "source": [
        "#grid display of images using make_grid\n",
        "imshow(torchvision.utils.make_grid(images)) # images are from dataiter.next() ##########important\n",
        "print(' '.join(classes[labels[j]] for j in range(4)))"
      ],
      "execution_count": 11,
      "outputs": [
        {
          "output_type": "display_data",
          "data": {
            "image/png": "[encoded data removed]",
            "text/plain": [
              "<Figure size 432x288 with 1 Axes>"
            ]
          },
          "metadata": {
            "tags": [],
            "needs_background": "light"
          }
        },
        {
          "output_type": "stream",
          "text": [
            "bird truck truck ship\n"
          ],
          "name": "stdout"
        }
      ]
    },
    {
      "cell_type": "markdown",
      "metadata": {
        "id": "u92pwdwcbYm9",
        "colab_type": "text"
      },
      "source": [
        "## Single Convolution layer"
      ]
    },
    {
      "cell_type": "code",
      "metadata": {
        "id": "850ZdQwEYrPu",
        "colab_type": "code",
        "colab": {}
      },
      "source": [
        "import torch.nn as nn\n",
        "import torch.nn as nn\n",
        "\n",
        "class FirstCNN(nn.Module):\n",
        "    def __init__(self): \n",
        "        super(FirstCNN, self).__init__()\n",
        "        self.conv1 = nn.Conv2d(3, 16, 3) # padding=(1,1), stride=(2,2))\n",
        "        \n",
        "    def forward(self, x):\n",
        "        x = self.conv1(x) #channels=3, out_channels=16 (means kernels = 16), kernel_size=3\n",
        "        return x"
      ],
      "execution_count": 0,
      "outputs": []
    },
    {
      "cell_type": "code",
      "metadata": {
        "id": "u72cJhKJb3iM",
        "colab_type": "code",
        "colab": {}
      },
      "source": [
        "net = FirstCNN()"
      ],
      "execution_count": 0,
      "outputs": []
    },
    {
      "cell_type": "code",
      "metadata": {
        "id": "P9EyquHSb8cK",
        "colab_type": "code",
        "outputId": "a2d61def-ab5d-404f-9e48-0391d986bf1f",
        "colab": {
          "base_uri": "https://localhost:8080/",
          "height": 34
        }
      },
      "source": [
        "out = net(images)\n",
        "out.shape # batch=4,channels=16,size of image after conv = (30,30)"
      ],
      "execution_count": 14,
      "outputs": [
        {
          "output_type": "execute_result",
          "data": {
            "text/plain": [
              "torch.Size([4, 16, 30, 30])"
            ]
          },
          "metadata": {
            "tags": []
          },
          "execution_count": 14
        }
      ]
    },
    {
      "cell_type": "markdown",
      "metadata": {
        "id": "CUJll0YSd7g1",
        "colab_type": "text"
      },
      "source": [
        "#### Checking the parameters"
      ]
    },
    {
      "cell_type": "code",
      "metadata": {
        "id": "1bwiABXOcCyu",
        "colab_type": "code",
        "outputId": "a2cab8f5-16d5-4e62-e8ca-6fecc37841e1",
        "colab": {
          "base_uri": "https://localhost:8080/",
          "height": 51
        }
      },
      "source": [
        "for param in net.parameters():\n",
        "    print(param.shape) #[16, 3, 3, 3] means 16 kernels,3 channels,(3,3) kernel size and [16]=bias"
      ],
      "execution_count": 15,
      "outputs": [
        {
          "output_type": "stream",
          "text": [
            "torch.Size([16, 3, 3, 3])\n",
            "torch.Size([16])\n"
          ],
          "name": "stdout"
        }
      ]
    },
    {
      "cell_type": "markdown",
      "metadata": {
        "id": "rIoSQspGeSjb",
        "colab_type": "text"
      },
      "source": [
        "#### plotting the out image\n"
      ]
    },
    {
      "cell_type": "code",
      "metadata": {
        "id": "HLY-CDNtddPu",
        "colab_type": "code",
        "outputId": "16fd10dd-3418-4492-fab5-b9ce2f69e406",
        "colab": {
          "base_uri": "https://localhost:8080/",
          "height": 34
        }
      },
      "source": [
        "out1 = out[0, 0, :, :].detach().numpy() #0th batch,0th channel, same dimensions\n",
        "print(out1.shape)"
      ],
      "execution_count": 16,
      "outputs": [
        {
          "output_type": "stream",
          "text": [
            "(30, 30)\n"
          ],
          "name": "stdout"
        }
      ]
    },
    {
      "cell_type": "code",
      "metadata": {
        "id": "ZARL24IqeogN",
        "colab_type": "code",
        "outputId": "dbe6aca6-0661-49a2-83be-98542c57ee79",
        "colab": {
          "base_uri": "https://localhost:8080/",
          "height": 266
        }
      },
      "source": [
        "plt.imshow(out1)\n",
        "plt.show()"
      ],
      "execution_count": 17,
      "outputs": [
        {
          "output_type": "display_data",
          "data": {
            "image/png": "[encoded data removed]",
            "text/plain": [
              "<Figure size 432x288 with 1 Axes>"
            ]
          },
          "metadata": {
            "tags": [],
            "needs_background": "light"
          }
        }
      ]
    },
    {
      "cell_type": "markdown",
      "metadata": {
        "id": "STFhRTIsgDIV",
        "colab_type": "text"
      },
      "source": [
        "## Deep Convolution Network"
      ]
    },
    {
      "cell_type": "code",
      "metadata": {
        "id": "wOTtXAroe16k",
        "colab_type": "code",
        "colab": {}
      },
      "source": [
        "class FirstCNN_v2(nn.Module):\n",
        "    def __init__(self): \n",
        "        super(FirstCNN_v2, self).__init__()\n",
        "        self.model = nn.Sequential(\n",
        "            nn.Conv2d(3, 8, 3),   # (N, 3, 32, 32) -> (N, 8, 30, 30)\n",
        "            nn.Conv2d(8, 16, 3)   # (N, 8, 30, 30) -> (N, 16, 28, 28)\n",
        "        )\n",
        "        \n",
        "    def forward(self, x):\n",
        "        x = self.model(x)\n",
        "        return x"
      ],
      "execution_count": 0,
      "outputs": []
    },
    {
      "cell_type": "code",
      "metadata": {
        "id": "8N56pMDjgap8",
        "colab_type": "code",
        "outputId": "642b3d96-fb96-4b24-a27e-cf5900cf8832",
        "colab": {
          "base_uri": "https://localhost:8080/",
          "height": 34
        }
      },
      "source": [
        "net = FirstCNN_v2()\n",
        "out = net(images)\n",
        "out.shape"
      ],
      "execution_count": 19,
      "outputs": [
        {
          "output_type": "execute_result",
          "data": {
            "text/plain": [
              "torch.Size([4, 16, 28, 28])"
            ]
          },
          "metadata": {
            "tags": []
          },
          "execution_count": 19
        }
      ]
    },
    {
      "cell_type": "code",
      "metadata": {
        "id": "IbxxWgzsgbPE",
        "colab_type": "code",
        "outputId": "8bc914aa-7767-4130-9e34-5e0d90e855c9",
        "colab": {
          "base_uri": "https://localhost:8080/",
          "height": 282
        }
      },
      "source": [
        "plt.imshow(out[0, 0, :, :].detach().numpy())"
      ],
      "execution_count": 20,
      "outputs": [
        {
          "output_type": "execute_result",
          "data": {
            "text/plain": [
              "<matplotlib.image.AxesImage at 0x7f785c40b358>"
            ]
          },
          "metadata": {
            "tags": []
          },
          "execution_count": 20
        },
        {
          "output_type": "display_data",
          "data": {
            "image/png": "[encoded data removed]",
            "text/plain": [
              "<Figure size 432x288 with 1 Axes>"
            ]
          },
          "metadata": {
            "tags": [],
            "needs_background": "light"
          }
        }
      ]
    },
    {
      "cell_type": "code",
      "metadata": {
        "id": "hAXTxc-1ggZC",
        "colab_type": "code",
        "colab": {}
      },
      "source": [
        "class FirstCNN_v3(nn.Module):\n",
        "    def __init__(self): \n",
        "        super(FirstCNN_v3, self).__init__()\n",
        "        self.model = nn.Sequential(\n",
        "            nn.Conv2d(3, 6, 5),          # (N, 3, 32, 32) -> (N, 6, 28, 28)\n",
        "            nn.AvgPool2d(2, stride=2),   # (N, 6, 28, 28) -> (N, 6, 14, 14)\n",
        "            nn.Conv2d(6, 16, 5),         # (N, 6, 14, 14) -> (N, 16, 10, 10)\n",
        "            nn.AvgPool2d(2, stride=2)    # (N, 16, 10, 10) -> (N, 16, 5, 5)\n",
        "        )\n",
        "        \n",
        "    def forward(self, x):\n",
        "        x = self.model(x)\n",
        "        return x"
      ],
      "execution_count": 0,
      "outputs": []
    },
    {
      "cell_type": "code",
      "metadata": {
        "id": "iOTK9g4_hPbM",
        "colab_type": "code",
        "outputId": "fc656eff-bd1b-4c36-ae1e-95af669adfd0",
        "colab": {
          "base_uri": "https://localhost:8080/",
          "height": 34
        }
      },
      "source": [
        "net = FirstCNN_v3()\n",
        "out = net(images)\n",
        "out.shape"
      ],
      "execution_count": 22,
      "outputs": [
        {
          "output_type": "execute_result",
          "data": {
            "text/plain": [
              "torch.Size([4, 16, 5, 5])"
            ]
          },
          "metadata": {
            "tags": []
          },
          "execution_count": 22
        }
      ]
    },
    {
      "cell_type": "code",
      "metadata": {
        "id": "LhOzZ9OKhSH8",
        "colab_type": "code",
        "colab": {}
      },
      "source": [
        "class LeNet(nn.Module):\n",
        "    def __init__(self): \n",
        "        super(LeNet, self).__init__()\n",
        "        self.cnn_model = nn.Sequential(\n",
        "            nn.Conv2d(3, 6, 5),         # (N, 3, 32, 32) -> (N,  6, 28, 28)\n",
        "            nn.Tanh(),\n",
        "            nn.AvgPool2d(2, stride=2),  # (N, 6, 28, 28) -> (N,  6, 14, 14)\n",
        "            nn.Conv2d(6, 16, 5),        # (N, 6, 14, 14) -> (N, 16, 10, 10)  \n",
        "            nn.Tanh(),\n",
        "            nn.AvgPool2d(2, stride=2)   # (N,16, 10, 10) -> (N, 16, 5, 5)\n",
        "        )\n",
        "        self.fc_model = nn.Sequential(\n",
        "            nn.Linear(400,120),         # (N, 400) -> (N, 120)\n",
        "            nn.Tanh(),\n",
        "            nn.Linear(120,84),          # (N, 120) -> (N, 84)\n",
        "            nn.Tanh(),\n",
        "            nn.Linear(84,10)            # (N, 84)  -> (N, 10)\n",
        "        )\n",
        "        \n",
        "    def forward(self, x):\n",
        "        print(x.shape)\n",
        "        x = self.cnn_model(x)\n",
        "        print(x.shape)\n",
        "        x = x.view(x.size(0), -1)\n",
        "        print(x.shape)\n",
        "        x = self.fc_model(x)\n",
        "        print(x.shape)\n",
        "        return x"
      ],
      "execution_count": 0,
      "outputs": []
    },
    {
      "cell_type": "code",
      "metadata": {
        "id": "TQiC_EZ3-aJE",
        "colab_type": "code",
        "colab": {
          "base_uri": "https://localhost:8080/",
          "height": 85
        },
        "outputId": "72fad0d3-fd47-4a46-a0cf-bc3f8dc3804b"
      },
      "source": [
        "net = LeNet()\n",
        "out = net(images)"
      ],
      "execution_count": 24,
      "outputs": [
        {
          "output_type": "stream",
          "text": [
            "torch.Size([4, 3, 32, 32])\n",
            "torch.Size([4, 16, 5, 5])\n",
            "torch.Size([4, 400])\n",
            "torch.Size([4, 10])\n"
          ],
          "name": "stdout"
        }
      ]
    },
    {
      "cell_type": "code",
      "metadata": {
        "id": "zH8nlWln-rjr",
        "colab_type": "code",
        "colab": {
          "base_uri": "https://localhost:8080/",
          "height": 153
        },
        "outputId": "ff8c0a61-8cf6-4fd7-bcbb-df643042fa63"
      },
      "source": [
        "print(out)"
      ],
      "execution_count": 25,
      "outputs": [
        {
          "output_type": "stream",
          "text": [
            "tensor([[-0.0488,  0.0837, -0.0642, -0.0023,  0.0248,  0.0702, -0.0295,  0.0289,\n",
            "          0.0764, -0.0770],\n",
            "        [-0.0639,  0.1014, -0.0532, -0.0134,  0.0249,  0.0852, -0.0441,  0.0025,\n",
            "          0.0934, -0.0793],\n",
            "        [-0.0761,  0.0910, -0.0727, -0.0063,  0.0448,  0.0693, -0.0245,  0.0065,\n",
            "          0.1002, -0.0895],\n",
            "        [-0.0726,  0.1037, -0.0603,  0.0017,  0.0321,  0.0755, -0.0254, -0.0036,\n",
            "          0.0980, -0.0621]], grad_fn=<AddmmBackward>)\n"
          ],
          "name": "stdout"
        }
      ]
    },
    {
      "cell_type": "code",
      "metadata": {
        "id": "j-07oia4-u40",
        "colab_type": "code",
        "colab": {
          "base_uri": "https://localhost:8080/",
          "height": 34
        },
        "outputId": "ca1e976d-871c-4a52-b72b-21d55c59cc33"
      },
      "source": [
        "max_values, pred_class = torch.max(out.data, 1)\n",
        "print(pred_class)"
      ],
      "execution_count": 26,
      "outputs": [
        {
          "output_type": "stream",
          "text": [
            "tensor([1, 1, 8, 1])\n"
          ],
          "name": "stdout"
        }
      ]
    },
    {
      "cell_type": "markdown",
      "metadata": {
        "id": "f1HkXjaBDmpF",
        "colab_type": "text"
      },
      "source": [
        "## Training LeNet"
      ]
    },
    {
      "cell_type": "code",
      "metadata": {
        "id": "GU6NpzeX-w8X",
        "colab_type": "code",
        "colab": {}
      },
      "source": [
        "class LeNet(nn.Module):\n",
        "    def __init__(self): \n",
        "        super(LeNet, self).__init__()\n",
        "        self.cnn_model = nn.Sequential(\n",
        "            nn.Conv2d(3, 6, 5),         # (N, 3, 32, 32) -> (N,  6, 28, 28)\n",
        "            nn.Tanh(),\n",
        "            nn.AvgPool2d(2, stride=2),  # (N, 6, 28, 28) -> (N,  6, 14, 14)\n",
        "            nn.Conv2d(6, 16, 5),        # (N, 6, 14, 14) -> (N, 16, 10, 10)  \n",
        "            nn.Tanh(),\n",
        "            nn.AvgPool2d(2, stride=2)   # (N,16, 10, 10) -> (N, 16, 5, 5)\n",
        "        )\n",
        "        self.fc_model = nn.Sequential(\n",
        "            nn.Linear(400,120),         # (N, 400) -> (N, 120)\n",
        "            nn.Tanh(),\n",
        "            nn.Linear(120,84),          # (N, 120) -> (N, 84)\n",
        "            nn.Tanh(),\n",
        "            nn.Linear(84,10)            # (N, 84)  -> (N, 10)\n",
        "        )\n",
        "        \n",
        "    def forward(self, x):\n",
        "        x = self.cnn_model(x)\n",
        "        x = x.view(x.size(0), -1)\n",
        "        x = self.fc_model(x)\n",
        "        return x"
      ],
      "execution_count": 0,
      "outputs": []
    },
    {
      "cell_type": "code",
      "metadata": {
        "id": "tEadonLyDr9D",
        "colab_type": "code",
        "colab": {
          "base_uri": "https://localhost:8080/",
          "height": 51
        },
        "outputId": "33162b89-9348-4811-eda2-0564441f9780"
      },
      "source": [
        "batch_size = 128\n",
        "trainset = torchvision.datasets.CIFAR10(root='./data', train=True, download=True, transform=transforms.ToTensor())\n",
        "trainloader = torch.utils.data.DataLoader(trainset, batch_size=batch_size, shuffle=True)\n",
        "testset = torchvision.datasets.CIFAR10(root='./data', train=False, download=True, transform=transforms.ToTensor())\n",
        "testloader = torch.utils.data.DataLoader(testset, batch_size=batch_size, shuffle=False)"
      ],
      "execution_count": 28,
      "outputs": [
        {
          "output_type": "stream",
          "text": [
            "Files already downloaded and verified\n",
            "Files already downloaded and verified\n"
          ],
          "name": "stdout"
        }
      ]
    },
    {
      "cell_type": "code",
      "metadata": {
        "id": "cZQtpGqXDuR9",
        "colab_type": "code",
        "colab": {}
      },
      "source": [
        "def evaluation(dataloader):\n",
        "    total, correct = 0, 0\n",
        "    for data in dataloader:\n",
        "        inputs, labels = data\n",
        "        outputs = net(inputs)\n",
        "        _, pred = torch.max(outputs.data, 1)\n",
        "        total += labels.size(0)\n",
        "        correct += (pred == labels).sum().item()\n",
        "    return 100 * correct / total"
      ],
      "execution_count": 0,
      "outputs": []
    },
    {
      "cell_type": "code",
      "metadata": {
        "id": "ebsel8ZZDwim",
        "colab_type": "code",
        "colab": {}
      },
      "source": [
        "net = LeNet()"
      ],
      "execution_count": 0,
      "outputs": []
    },
    {
      "cell_type": "code",
      "metadata": {
        "id": "2vdWSht0DzT8",
        "colab_type": "code",
        "colab": {}
      },
      "source": [
        "import torch.optim as optim\n",
        "\n",
        "loss_fn = nn.CrossEntropyLoss()\n",
        "opt = optim.Adam(net.parameters())"
      ],
      "execution_count": 0,
      "outputs": []
    },
    {
      "cell_type": "code",
      "metadata": {
        "id": "c2d99ii7D1ZT",
        "colab_type": "code",
        "colab": {
          "base_uri": "https://localhost:8080/",
          "height": 571
        },
        "outputId": "524725f5-9e7a-4aa5-b17a-621431ada945"
      },
      "source": [
        "%%time\n",
        "loss_arr = []\n",
        "loss_epoch_arr = []\n",
        "max_epochs = 16\n",
        "\n",
        "for epoch in range(max_epochs):\n",
        "\n",
        "    for i, data in enumerate(trainloader, 0):\n",
        "\n",
        "        inputs, labels = data\n",
        "\n",
        "        opt.zero_grad()\n",
        "\n",
        "        outputs = net(inputs)\n",
        "        loss = loss_fn(outputs, labels)\n",
        "        loss.backward()\n",
        "        opt.step()\n",
        "        \n",
        "        loss_arr.append(loss.item())\n",
        "        \n",
        "    loss_epoch_arr.append(loss.item())\n",
        "        \n",
        "    print('Epoch: %d/%d, Test acc: %0.2f, Train acc: %0.2f' % (epoch, max_epochs, evaluation(testloader), evaluation(trainloader)))\n",
        "    \n",
        "    \n",
        "plt.plot(loss_epoch_arr)\n",
        "plt.show()"
      ],
      "execution_count": 32,
      "outputs": [
        {
          "output_type": "stream",
          "text": [
            "Epoch: 0/16, Test acc: 38.81, Train acc: 38.78\n",
            "Epoch: 1/16, Test acc: 43.37, Train acc: 43.84\n",
            "Epoch: 2/16, Test acc: 46.41, Train acc: 47.57\n",
            "Epoch: 3/16, Test acc: 48.30, Train acc: 49.60\n",
            "Epoch: 4/16, Test acc: 51.03, Train acc: 53.29\n",
            "Epoch: 5/16, Test acc: 51.35, Train acc: 54.64\n",
            "Epoch: 6/16, Test acc: 53.08, Train acc: 56.80\n",
            "Epoch: 7/16, Test acc: 54.01, Train acc: 58.59\n",
            "Epoch: 8/16, Test acc: 54.40, Train acc: 59.93\n",
            "Epoch: 9/16, Test acc: 54.54, Train acc: 60.30\n",
            "Epoch: 10/16, Test acc: 54.64, Train acc: 61.28\n",
            "Epoch: 11/16, Test acc: 55.21, Train acc: 62.59\n",
            "Epoch: 12/16, Test acc: 55.09, Train acc: 63.12\n",
            "Epoch: 13/16, Test acc: 55.55, Train acc: 64.64\n",
            "Epoch: 14/16, Test acc: 55.96, Train acc: 65.45\n",
            "Epoch: 15/16, Test acc: 55.70, Train acc: 65.76\n"
          ],
          "name": "stdout"
        },
        {
          "output_type": "display_data",
          "data": {
            "image/png": "[encoded data removed]",
            "text/plain": [
              "<Figure size 432x288 with 1 Axes>"
            ]
          },
          "metadata": {
            "tags": [],
            "needs_background": "light"
          }
        },
        {
          "output_type": "stream",
          "text": [
            "CPU times: user 8min 40s, sys: 4.31 s, total: 8min 45s\n",
            "Wall time: 8min 46s\n"
          ],
          "name": "stdout"
        }
      ]
    },
    {
      "cell_type": "markdown",
      "metadata": {
        "id": "_uEVr8HFM8NN",
        "colab_type": "text"
      },
      "source": [
        "## Move to GPU"
      ]
    },
    {
      "cell_type": "code",
      "metadata": {
        "id": "lhlbvpJrD3Yx",
        "colab_type": "code",
        "colab": {
          "base_uri": "https://localhost:8080/",
          "height": 34
        },
        "outputId": "893b747f-c271-4fd7-fe46-949c58fb8631"
      },
      "source": [
        "device = torch.device(\"cuda:0\" if torch.cuda.is_available() else \"cpu\")\n",
        "print(device)"
      ],
      "execution_count": 33,
      "outputs": [
        {
          "output_type": "stream",
          "text": [
            "cuda:0\n"
          ],
          "name": "stdout"
        }
      ]
    },
    {
      "cell_type": "code",
      "metadata": {
        "id": "z2Kic5yZNDiG",
        "colab_type": "code",
        "colab": {}
      },
      "source": [
        "\n",
        "def evaluation(dataloader):\n",
        "    total, correct = 0, 0\n",
        "    for data in dataloader:\n",
        "        inputs, labels = data\n",
        "        inputs, labels = inputs.to(device), labels.to(device)\n",
        "        outputs = net(inputs)\n",
        "        _, pred = torch.max(outputs.data, 1)\n",
        "        total += labels.size(0)\n",
        "        correct += (pred == labels).sum().item()\n",
        "    return 100 * correct / total"
      ],
      "execution_count": 0,
      "outputs": []
    },
    {
      "cell_type": "code",
      "metadata": {
        "id": "WBESQE_CQHzY",
        "colab_type": "code",
        "colab": {}
      },
      "source": [
        "net = LeNet().to(device)\n",
        "loss_fn = nn.CrossEntropyLoss()\n",
        "opt = optim.Adam(net.parameters())"
      ],
      "execution_count": 0,
      "outputs": []
    },
    {
      "cell_type": "code",
      "metadata": {
        "id": "_QGp6z0kQL1E",
        "colab_type": "code",
        "colab": {
          "base_uri": "https://localhost:8080/",
          "height": 323
        },
        "outputId": "43deb84b-ca64-43ad-c3d8-9ea28e2c8618"
      },
      "source": [
        "%%time\n",
        "max_epochs = 16\n",
        "\n",
        "for epoch in range(max_epochs):\n",
        "\n",
        "    for i, data in enumerate(trainloader, 0):\n",
        "\n",
        "        inputs, labels = data\n",
        "        inputs, labels = inputs.to(device), labels.to(device)\n",
        "\n",
        "        opt.zero_grad()\n",
        "\n",
        "        outputs = net(inputs)\n",
        "        loss = loss_fn(outputs, labels)\n",
        "        loss.backward()\n",
        "        opt.step()\n",
        "        \n",
        "    print('Epoch: %d/%d' % (epoch, max_epochs))"
      ],
      "execution_count": 36,
      "outputs": [
        {
          "output_type": "stream",
          "text": [
            "Epoch: 0/16\n",
            "Epoch: 1/16\n",
            "Epoch: 2/16\n",
            "Epoch: 3/16\n",
            "Epoch: 4/16\n",
            "Epoch: 5/16\n",
            "Epoch: 6/16\n",
            "Epoch: 7/16\n",
            "Epoch: 8/16\n",
            "Epoch: 9/16\n",
            "Epoch: 10/16\n",
            "Epoch: 11/16\n",
            "Epoch: 12/16\n",
            "Epoch: 13/16\n",
            "Epoch: 14/16\n",
            "Epoch: 15/16\n",
            "CPU times: user 2min 11s, sys: 823 ms, total: 2min 12s\n",
            "Wall time: 2min 13s\n"
          ],
          "name": "stdout"
        }
      ]
    },
    {
      "cell_type": "code",
      "metadata": {
        "id": "x2eNTdujQOKf",
        "colab_type": "code",
        "colab": {
          "base_uri": "https://localhost:8080/",
          "height": 34
        },
        "outputId": "36ec233a-e70c-4a84-d7b6-fb7b39799ede"
      },
      "source": [
        "print('Test acc: %0.2f, Train acc: %0.2f' % (evaluation(testloader), evaluation(trainloader)))\n"
      ],
      "execution_count": 37,
      "outputs": [
        {
          "output_type": "stream",
          "text": [
            "Test acc: 56.98, Train acc: 66.24\n"
          ],
          "name": "stdout"
        }
      ]
    },
    {
      "cell_type": "code",
      "metadata": {
        "id": "0jWixSGQQR8m",
        "colab_type": "code",
        "colab": {}
      },
      "source": [
        ""
      ],
      "execution_count": 0,
      "outputs": []
    }
  ]
}