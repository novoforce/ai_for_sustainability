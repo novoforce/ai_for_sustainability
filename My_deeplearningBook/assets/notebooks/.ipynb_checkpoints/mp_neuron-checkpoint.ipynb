{
 "cells": [
  {
   "cell_type": "code",
   "execution_count": 1,
   "metadata": {},
   "outputs": [],
   "source": [
    "import sklearn.datasets\n",
    "import numpy as np"
   ]
  },
  {
   "cell_type": "markdown",
   "metadata": {},
   "source": [
    "# Loading the dataset "
   ]
  },
  {
   "cell_type": "code",
   "execution_count": 2,
   "metadata": {},
   "outputs": [],
   "source": [
    "breast_cancer = sklearn.datasets.load_breast_cancer()"
   ]
  },
  {
   "cell_type": "code",
   "execution_count": 3,
   "metadata": {},
   "outputs": [],
   "source": [
    "x = breast_cancer.data\n",
    "y = breast_cancer.target"
   ]
  },
  {
   "cell_type": "code",
   "execution_count": 4,
   "metadata": {},
   "outputs": [
    {
     "name": "stdout",
     "output_type": "stream",
     "text": [
      "[[1.799e+01 1.038e+01 1.228e+02 ... 2.654e-01 4.601e-01 1.189e-01]\n",
      " [2.057e+01 1.777e+01 1.329e+02 ... 1.860e-01 2.750e-01 8.902e-02]\n",
      " [1.969e+01 2.125e+01 1.300e+02 ... 2.430e-01 3.613e-01 8.758e-02]\n",
      " ...\n",
      " [1.660e+01 2.808e+01 1.083e+02 ... 1.418e-01 2.218e-01 7.820e-02]\n",
      " [2.060e+01 2.933e+01 1.401e+02 ... 2.650e-01 4.087e-01 1.240e-01]\n",
      " [7.760e+00 2.454e+01 4.792e+01 ... 0.000e+00 2.871e-01 7.039e-02]] (569, 30)\n",
      "[0 0 0 0 0 0 0 0 0 0 0 0 0 0 0 0 0 0 0 1 1 1 0 0 0 0 0 0 0 0 0 0 0 0 0 0 0\n",
      " 1 0 0 0 0 0 0 0 0 1 0 1 1 1 1 1 0 0 1 0 0 1 1 1 1 0 1 0 0 1 1 1 1 0 1 0 0\n",
      " 1 0 1 0 0 1 1 1 0 0 1 0 0 0 1 1 1 0 1 1 0 0 1 1 1 0 0 1 1 1 1 0 1 1 0 1 1\n",
      " 1 1 1 1 1 1 0 0 0 1 0 0 1 1 1 0 0 1 0 1 0 0 1 0 0 1 1 0 1 1 0 1 1 1 1 0 1\n",
      " 1 1 1 1 1 1 1 1 0 1 1 1 1 0 0 1 0 1 1 0 0 1 1 0 0 1 1 1 1 0 1 1 0 0 0 1 0\n",
      " 1 0 1 1 1 0 1 1 0 0 1 0 0 0 0 1 0 0 0 1 0 1 0 1 1 0 1 0 0 0 0 1 1 0 0 1 1\n",
      " 1 0 1 1 1 1 1 0 0 1 1 0 1 1 0 0 1 0 1 1 1 1 0 1 1 1 1 1 0 1 0 0 0 0 0 0 0\n",
      " 0 0 0 0 0 0 0 1 1 1 1 1 1 0 1 0 1 1 0 1 1 0 1 0 0 1 1 1 1 1 1 1 1 1 1 1 1\n",
      " 1 0 1 1 0 1 0 1 1 1 1 1 1 1 1 1 1 1 1 1 1 0 1 1 1 0 1 0 1 1 1 1 0 0 0 1 1\n",
      " 1 1 0 1 0 1 0 1 1 1 0 1 1 1 1 1 1 1 0 0 0 1 1 1 1 1 1 1 1 1 1 1 0 0 1 0 0\n",
      " 0 1 0 0 1 1 1 1 1 0 1 1 1 1 1 0 1 1 1 0 1 1 0 0 1 1 1 1 1 1 0 1 1 1 1 1 1\n",
      " 1 0 1 1 1 1 1 0 1 1 0 1 1 1 1 1 1 1 1 1 1 1 1 0 1 0 0 1 0 1 1 1 1 1 0 1 1\n",
      " 0 1 0 1 1 0 1 0 1 1 1 1 1 1 1 1 0 0 1 1 1 1 1 1 0 1 1 1 1 1 1 1 1 1 1 0 1\n",
      " 1 1 1 1 1 1 0 1 0 1 1 0 1 1 1 1 1 0 0 1 0 1 0 1 1 1 1 1 0 1 1 0 1 0 1 0 0\n",
      " 1 1 1 0 1 1 1 1 1 1 1 1 1 1 1 0 1 0 0 1 1 1 1 1 1 1 1 1 1 1 1 1 1 1 1 1 1\n",
      " 1 1 1 1 1 1 1 0 0 0 0 0 0 1] (569,)\n"
     ]
    }
   ],
   "source": [
    "print(x,x.shape)\n",
    "print(y,y.shape)"
   ]
  },
  {
   "cell_type": "code",
   "execution_count": 5,
   "metadata": {},
   "outputs": [],
   "source": [
    "import pandas as pd\n",
    "data = pd.DataFrame(breast_cancer.data,columns=breast_cancer.feature_names)"
   ]
  },
  {
   "cell_type": "code",
   "execution_count": 6,
   "metadata": {},
   "outputs": [
    {
     "data": {
      "text/html": [
       "<div>\n",
       "<style scoped>\n",
       "    .dataframe tbody tr th:only-of-type {\n",
       "        vertical-align: middle;\n",
       "    }\n",
       "\n",
       "    .dataframe tbody tr th {\n",
       "        vertical-align: top;\n",
       "    }\n",
       "\n",
       "    .dataframe thead th {\n",
       "        text-align: right;\n",
       "    }\n",
       "</style>\n",
       "<table border=\"1\" class=\"dataframe\">\n",
       "  <thead>\n",
       "    <tr style=\"text-align: right;\">\n",
       "      <th></th>\n",
       "      <th>mean radius</th>\n",
       "      <th>mean texture</th>\n",
       "      <th>mean perimeter</th>\n",
       "      <th>mean area</th>\n",
       "      <th>mean smoothness</th>\n",
       "      <th>mean compactness</th>\n",
       "      <th>mean concavity</th>\n",
       "      <th>mean concave points</th>\n",
       "      <th>mean symmetry</th>\n",
       "      <th>mean fractal dimension</th>\n",
       "      <th>...</th>\n",
       "      <th>worst texture</th>\n",
       "      <th>worst perimeter</th>\n",
       "      <th>worst area</th>\n",
       "      <th>worst smoothness</th>\n",
       "      <th>worst compactness</th>\n",
       "      <th>worst concavity</th>\n",
       "      <th>worst concave points</th>\n",
       "      <th>worst symmetry</th>\n",
       "      <th>worst fractal dimension</th>\n",
       "      <th>class</th>\n",
       "    </tr>\n",
       "  </thead>\n",
       "  <tbody>\n",
       "    <tr>\n",
       "      <th>0</th>\n",
       "      <td>17.99</td>\n",
       "      <td>10.38</td>\n",
       "      <td>122.80</td>\n",
       "      <td>1001.0</td>\n",
       "      <td>0.11840</td>\n",
       "      <td>0.27760</td>\n",
       "      <td>0.3001</td>\n",
       "      <td>0.14710</td>\n",
       "      <td>0.2419</td>\n",
       "      <td>0.07871</td>\n",
       "      <td>...</td>\n",
       "      <td>17.33</td>\n",
       "      <td>184.60</td>\n",
       "      <td>2019.0</td>\n",
       "      <td>0.1622</td>\n",
       "      <td>0.6656</td>\n",
       "      <td>0.7119</td>\n",
       "      <td>0.2654</td>\n",
       "      <td>0.4601</td>\n",
       "      <td>0.11890</td>\n",
       "      <td>0</td>\n",
       "    </tr>\n",
       "    <tr>\n",
       "      <th>1</th>\n",
       "      <td>20.57</td>\n",
       "      <td>17.77</td>\n",
       "      <td>132.90</td>\n",
       "      <td>1326.0</td>\n",
       "      <td>0.08474</td>\n",
       "      <td>0.07864</td>\n",
       "      <td>0.0869</td>\n",
       "      <td>0.07017</td>\n",
       "      <td>0.1812</td>\n",
       "      <td>0.05667</td>\n",
       "      <td>...</td>\n",
       "      <td>23.41</td>\n",
       "      <td>158.80</td>\n",
       "      <td>1956.0</td>\n",
       "      <td>0.1238</td>\n",
       "      <td>0.1866</td>\n",
       "      <td>0.2416</td>\n",
       "      <td>0.1860</td>\n",
       "      <td>0.2750</td>\n",
       "      <td>0.08902</td>\n",
       "      <td>0</td>\n",
       "    </tr>\n",
       "    <tr>\n",
       "      <th>2</th>\n",
       "      <td>19.69</td>\n",
       "      <td>21.25</td>\n",
       "      <td>130.00</td>\n",
       "      <td>1203.0</td>\n",
       "      <td>0.10960</td>\n",
       "      <td>0.15990</td>\n",
       "      <td>0.1974</td>\n",
       "      <td>0.12790</td>\n",
       "      <td>0.2069</td>\n",
       "      <td>0.05999</td>\n",
       "      <td>...</td>\n",
       "      <td>25.53</td>\n",
       "      <td>152.50</td>\n",
       "      <td>1709.0</td>\n",
       "      <td>0.1444</td>\n",
       "      <td>0.4245</td>\n",
       "      <td>0.4504</td>\n",
       "      <td>0.2430</td>\n",
       "      <td>0.3613</td>\n",
       "      <td>0.08758</td>\n",
       "      <td>0</td>\n",
       "    </tr>\n",
       "    <tr>\n",
       "      <th>3</th>\n",
       "      <td>11.42</td>\n",
       "      <td>20.38</td>\n",
       "      <td>77.58</td>\n",
       "      <td>386.1</td>\n",
       "      <td>0.14250</td>\n",
       "      <td>0.28390</td>\n",
       "      <td>0.2414</td>\n",
       "      <td>0.10520</td>\n",
       "      <td>0.2597</td>\n",
       "      <td>0.09744</td>\n",
       "      <td>...</td>\n",
       "      <td>26.50</td>\n",
       "      <td>98.87</td>\n",
       "      <td>567.7</td>\n",
       "      <td>0.2098</td>\n",
       "      <td>0.8663</td>\n",
       "      <td>0.6869</td>\n",
       "      <td>0.2575</td>\n",
       "      <td>0.6638</td>\n",
       "      <td>0.17300</td>\n",
       "      <td>0</td>\n",
       "    </tr>\n",
       "    <tr>\n",
       "      <th>4</th>\n",
       "      <td>20.29</td>\n",
       "      <td>14.34</td>\n",
       "      <td>135.10</td>\n",
       "      <td>1297.0</td>\n",
       "      <td>0.10030</td>\n",
       "      <td>0.13280</td>\n",
       "      <td>0.1980</td>\n",
       "      <td>0.10430</td>\n",
       "      <td>0.1809</td>\n",
       "      <td>0.05883</td>\n",
       "      <td>...</td>\n",
       "      <td>16.67</td>\n",
       "      <td>152.20</td>\n",
       "      <td>1575.0</td>\n",
       "      <td>0.1374</td>\n",
       "      <td>0.2050</td>\n",
       "      <td>0.4000</td>\n",
       "      <td>0.1625</td>\n",
       "      <td>0.2364</td>\n",
       "      <td>0.07678</td>\n",
       "      <td>0</td>\n",
       "    </tr>\n",
       "  </tbody>\n",
       "</table>\n",
       "<p>5 rows × 31 columns</p>\n",
       "</div>"
      ],
      "text/plain": [
       "   mean radius  mean texture  mean perimeter  mean area  mean smoothness  \\\n",
       "0        17.99         10.38          122.80     1001.0          0.11840   \n",
       "1        20.57         17.77          132.90     1326.0          0.08474   \n",
       "2        19.69         21.25          130.00     1203.0          0.10960   \n",
       "3        11.42         20.38           77.58      386.1          0.14250   \n",
       "4        20.29         14.34          135.10     1297.0          0.10030   \n",
       "\n",
       "   mean compactness  mean concavity  mean concave points  mean symmetry  \\\n",
       "0           0.27760          0.3001              0.14710         0.2419   \n",
       "1           0.07864          0.0869              0.07017         0.1812   \n",
       "2           0.15990          0.1974              0.12790         0.2069   \n",
       "3           0.28390          0.2414              0.10520         0.2597   \n",
       "4           0.13280          0.1980              0.10430         0.1809   \n",
       "\n",
       "   mean fractal dimension  ...  worst texture  worst perimeter  worst area  \\\n",
       "0                 0.07871  ...          17.33           184.60      2019.0   \n",
       "1                 0.05667  ...          23.41           158.80      1956.0   \n",
       "2                 0.05999  ...          25.53           152.50      1709.0   \n",
       "3                 0.09744  ...          26.50            98.87       567.7   \n",
       "4                 0.05883  ...          16.67           152.20      1575.0   \n",
       "\n",
       "   worst smoothness  worst compactness  worst concavity  worst concave points  \\\n",
       "0            0.1622             0.6656           0.7119                0.2654   \n",
       "1            0.1238             0.1866           0.2416                0.1860   \n",
       "2            0.1444             0.4245           0.4504                0.2430   \n",
       "3            0.2098             0.8663           0.6869                0.2575   \n",
       "4            0.1374             0.2050           0.4000                0.1625   \n",
       "\n",
       "   worst symmetry  worst fractal dimension  class  \n",
       "0          0.4601                  0.11890      0  \n",
       "1          0.2750                  0.08902      0  \n",
       "2          0.3613                  0.08758      0  \n",
       "3          0.6638                  0.17300      0  \n",
       "4          0.2364                  0.07678      0  \n",
       "\n",
       "[5 rows x 31 columns]"
      ]
     },
     "execution_count": 6,
     "metadata": {},
     "output_type": "execute_result"
    }
   ],
   "source": [
    "data['class'] = breast_cancer.target\n",
    "data.head()"
   ]
  },
  {
   "cell_type": "code",
   "execution_count": 7,
   "metadata": {},
   "outputs": [
    {
     "data": {
      "text/html": [
       "<div>\n",
       "<style scoped>\n",
       "    .dataframe tbody tr th:only-of-type {\n",
       "        vertical-align: middle;\n",
       "    }\n",
       "\n",
       "    .dataframe tbody tr th {\n",
       "        vertical-align: top;\n",
       "    }\n",
       "\n",
       "    .dataframe thead th {\n",
       "        text-align: right;\n",
       "    }\n",
       "</style>\n",
       "<table border=\"1\" class=\"dataframe\">\n",
       "  <thead>\n",
       "    <tr style=\"text-align: right;\">\n",
       "      <th></th>\n",
       "      <th>mean radius</th>\n",
       "      <th>mean texture</th>\n",
       "      <th>mean perimeter</th>\n",
       "      <th>mean area</th>\n",
       "      <th>mean smoothness</th>\n",
       "      <th>mean compactness</th>\n",
       "      <th>mean concavity</th>\n",
       "      <th>mean concave points</th>\n",
       "      <th>mean symmetry</th>\n",
       "      <th>mean fractal dimension</th>\n",
       "      <th>...</th>\n",
       "      <th>worst texture</th>\n",
       "      <th>worst perimeter</th>\n",
       "      <th>worst area</th>\n",
       "      <th>worst smoothness</th>\n",
       "      <th>worst compactness</th>\n",
       "      <th>worst concavity</th>\n",
       "      <th>worst concave points</th>\n",
       "      <th>worst symmetry</th>\n",
       "      <th>worst fractal dimension</th>\n",
       "      <th>class</th>\n",
       "    </tr>\n",
       "  </thead>\n",
       "  <tbody>\n",
       "    <tr>\n",
       "      <th>count</th>\n",
       "      <td>569.000000</td>\n",
       "      <td>569.000000</td>\n",
       "      <td>569.000000</td>\n",
       "      <td>569.000000</td>\n",
       "      <td>569.000000</td>\n",
       "      <td>569.000000</td>\n",
       "      <td>569.000000</td>\n",
       "      <td>569.000000</td>\n",
       "      <td>569.000000</td>\n",
       "      <td>569.000000</td>\n",
       "      <td>...</td>\n",
       "      <td>569.000000</td>\n",
       "      <td>569.000000</td>\n",
       "      <td>569.000000</td>\n",
       "      <td>569.000000</td>\n",
       "      <td>569.000000</td>\n",
       "      <td>569.000000</td>\n",
       "      <td>569.000000</td>\n",
       "      <td>569.000000</td>\n",
       "      <td>569.000000</td>\n",
       "      <td>569.000000</td>\n",
       "    </tr>\n",
       "    <tr>\n",
       "      <th>mean</th>\n",
       "      <td>14.127292</td>\n",
       "      <td>19.289649</td>\n",
       "      <td>91.969033</td>\n",
       "      <td>654.889104</td>\n",
       "      <td>0.096360</td>\n",
       "      <td>0.104341</td>\n",
       "      <td>0.088799</td>\n",
       "      <td>0.048919</td>\n",
       "      <td>0.181162</td>\n",
       "      <td>0.062798</td>\n",
       "      <td>...</td>\n",
       "      <td>25.677223</td>\n",
       "      <td>107.261213</td>\n",
       "      <td>880.583128</td>\n",
       "      <td>0.132369</td>\n",
       "      <td>0.254265</td>\n",
       "      <td>0.272188</td>\n",
       "      <td>0.114606</td>\n",
       "      <td>0.290076</td>\n",
       "      <td>0.083946</td>\n",
       "      <td>0.627417</td>\n",
       "    </tr>\n",
       "    <tr>\n",
       "      <th>std</th>\n",
       "      <td>3.524049</td>\n",
       "      <td>4.301036</td>\n",
       "      <td>24.298981</td>\n",
       "      <td>351.914129</td>\n",
       "      <td>0.014064</td>\n",
       "      <td>0.052813</td>\n",
       "      <td>0.079720</td>\n",
       "      <td>0.038803</td>\n",
       "      <td>0.027414</td>\n",
       "      <td>0.007060</td>\n",
       "      <td>...</td>\n",
       "      <td>6.146258</td>\n",
       "      <td>33.602542</td>\n",
       "      <td>569.356993</td>\n",
       "      <td>0.022832</td>\n",
       "      <td>0.157336</td>\n",
       "      <td>0.208624</td>\n",
       "      <td>0.065732</td>\n",
       "      <td>0.061867</td>\n",
       "      <td>0.018061</td>\n",
       "      <td>0.483918</td>\n",
       "    </tr>\n",
       "    <tr>\n",
       "      <th>min</th>\n",
       "      <td>6.981000</td>\n",
       "      <td>9.710000</td>\n",
       "      <td>43.790000</td>\n",
       "      <td>143.500000</td>\n",
       "      <td>0.052630</td>\n",
       "      <td>0.019380</td>\n",
       "      <td>0.000000</td>\n",
       "      <td>0.000000</td>\n",
       "      <td>0.106000</td>\n",
       "      <td>0.049960</td>\n",
       "      <td>...</td>\n",
       "      <td>12.020000</td>\n",
       "      <td>50.410000</td>\n",
       "      <td>185.200000</td>\n",
       "      <td>0.071170</td>\n",
       "      <td>0.027290</td>\n",
       "      <td>0.000000</td>\n",
       "      <td>0.000000</td>\n",
       "      <td>0.156500</td>\n",
       "      <td>0.055040</td>\n",
       "      <td>0.000000</td>\n",
       "    </tr>\n",
       "    <tr>\n",
       "      <th>25%</th>\n",
       "      <td>11.700000</td>\n",
       "      <td>16.170000</td>\n",
       "      <td>75.170000</td>\n",
       "      <td>420.300000</td>\n",
       "      <td>0.086370</td>\n",
       "      <td>0.064920</td>\n",
       "      <td>0.029560</td>\n",
       "      <td>0.020310</td>\n",
       "      <td>0.161900</td>\n",
       "      <td>0.057700</td>\n",
       "      <td>...</td>\n",
       "      <td>21.080000</td>\n",
       "      <td>84.110000</td>\n",
       "      <td>515.300000</td>\n",
       "      <td>0.116600</td>\n",
       "      <td>0.147200</td>\n",
       "      <td>0.114500</td>\n",
       "      <td>0.064930</td>\n",
       "      <td>0.250400</td>\n",
       "      <td>0.071460</td>\n",
       "      <td>0.000000</td>\n",
       "    </tr>\n",
       "    <tr>\n",
       "      <th>50%</th>\n",
       "      <td>13.370000</td>\n",
       "      <td>18.840000</td>\n",
       "      <td>86.240000</td>\n",
       "      <td>551.100000</td>\n",
       "      <td>0.095870</td>\n",
       "      <td>0.092630</td>\n",
       "      <td>0.061540</td>\n",
       "      <td>0.033500</td>\n",
       "      <td>0.179200</td>\n",
       "      <td>0.061540</td>\n",
       "      <td>...</td>\n",
       "      <td>25.410000</td>\n",
       "      <td>97.660000</td>\n",
       "      <td>686.500000</td>\n",
       "      <td>0.131300</td>\n",
       "      <td>0.211900</td>\n",
       "      <td>0.226700</td>\n",
       "      <td>0.099930</td>\n",
       "      <td>0.282200</td>\n",
       "      <td>0.080040</td>\n",
       "      <td>1.000000</td>\n",
       "    </tr>\n",
       "    <tr>\n",
       "      <th>75%</th>\n",
       "      <td>15.780000</td>\n",
       "      <td>21.800000</td>\n",
       "      <td>104.100000</td>\n",
       "      <td>782.700000</td>\n",
       "      <td>0.105300</td>\n",
       "      <td>0.130400</td>\n",
       "      <td>0.130700</td>\n",
       "      <td>0.074000</td>\n",
       "      <td>0.195700</td>\n",
       "      <td>0.066120</td>\n",
       "      <td>...</td>\n",
       "      <td>29.720000</td>\n",
       "      <td>125.400000</td>\n",
       "      <td>1084.000000</td>\n",
       "      <td>0.146000</td>\n",
       "      <td>0.339100</td>\n",
       "      <td>0.382900</td>\n",
       "      <td>0.161400</td>\n",
       "      <td>0.317900</td>\n",
       "      <td>0.092080</td>\n",
       "      <td>1.000000</td>\n",
       "    </tr>\n",
       "    <tr>\n",
       "      <th>max</th>\n",
       "      <td>28.110000</td>\n",
       "      <td>39.280000</td>\n",
       "      <td>188.500000</td>\n",
       "      <td>2501.000000</td>\n",
       "      <td>0.163400</td>\n",
       "      <td>0.345400</td>\n",
       "      <td>0.426800</td>\n",
       "      <td>0.201200</td>\n",
       "      <td>0.304000</td>\n",
       "      <td>0.097440</td>\n",
       "      <td>...</td>\n",
       "      <td>49.540000</td>\n",
       "      <td>251.200000</td>\n",
       "      <td>4254.000000</td>\n",
       "      <td>0.222600</td>\n",
       "      <td>1.058000</td>\n",
       "      <td>1.252000</td>\n",
       "      <td>0.291000</td>\n",
       "      <td>0.663800</td>\n",
       "      <td>0.207500</td>\n",
       "      <td>1.000000</td>\n",
       "    </tr>\n",
       "  </tbody>\n",
       "</table>\n",
       "<p>8 rows × 31 columns</p>\n",
       "</div>"
      ],
      "text/plain": [
       "       mean radius  mean texture  mean perimeter    mean area  \\\n",
       "count   569.000000    569.000000      569.000000   569.000000   \n",
       "mean     14.127292     19.289649       91.969033   654.889104   \n",
       "std       3.524049      4.301036       24.298981   351.914129   \n",
       "min       6.981000      9.710000       43.790000   143.500000   \n",
       "25%      11.700000     16.170000       75.170000   420.300000   \n",
       "50%      13.370000     18.840000       86.240000   551.100000   \n",
       "75%      15.780000     21.800000      104.100000   782.700000   \n",
       "max      28.110000     39.280000      188.500000  2501.000000   \n",
       "\n",
       "       mean smoothness  mean compactness  mean concavity  mean concave points  \\\n",
       "count       569.000000        569.000000      569.000000           569.000000   \n",
       "mean          0.096360          0.104341        0.088799             0.048919   \n",
       "std           0.014064          0.052813        0.079720             0.038803   \n",
       "min           0.052630          0.019380        0.000000             0.000000   \n",
       "25%           0.086370          0.064920        0.029560             0.020310   \n",
       "50%           0.095870          0.092630        0.061540             0.033500   \n",
       "75%           0.105300          0.130400        0.130700             0.074000   \n",
       "max           0.163400          0.345400        0.426800             0.201200   \n",
       "\n",
       "       mean symmetry  mean fractal dimension  ...  worst texture  \\\n",
       "count     569.000000              569.000000  ...     569.000000   \n",
       "mean        0.181162                0.062798  ...      25.677223   \n",
       "std         0.027414                0.007060  ...       6.146258   \n",
       "min         0.106000                0.049960  ...      12.020000   \n",
       "25%         0.161900                0.057700  ...      21.080000   \n",
       "50%         0.179200                0.061540  ...      25.410000   \n",
       "75%         0.195700                0.066120  ...      29.720000   \n",
       "max         0.304000                0.097440  ...      49.540000   \n",
       "\n",
       "       worst perimeter   worst area  worst smoothness  worst compactness  \\\n",
       "count       569.000000   569.000000        569.000000         569.000000   \n",
       "mean        107.261213   880.583128          0.132369           0.254265   \n",
       "std          33.602542   569.356993          0.022832           0.157336   \n",
       "min          50.410000   185.200000          0.071170           0.027290   \n",
       "25%          84.110000   515.300000          0.116600           0.147200   \n",
       "50%          97.660000   686.500000          0.131300           0.211900   \n",
       "75%         125.400000  1084.000000          0.146000           0.339100   \n",
       "max         251.200000  4254.000000          0.222600           1.058000   \n",
       "\n",
       "       worst concavity  worst concave points  worst symmetry  \\\n",
       "count       569.000000            569.000000      569.000000   \n",
       "mean          0.272188              0.114606        0.290076   \n",
       "std           0.208624              0.065732        0.061867   \n",
       "min           0.000000              0.000000        0.156500   \n",
       "25%           0.114500              0.064930        0.250400   \n",
       "50%           0.226700              0.099930        0.282200   \n",
       "75%           0.382900              0.161400        0.317900   \n",
       "max           1.252000              0.291000        0.663800   \n",
       "\n",
       "       worst fractal dimension       class  \n",
       "count               569.000000  569.000000  \n",
       "mean                  0.083946    0.627417  \n",
       "std                   0.018061    0.483918  \n",
       "min                   0.055040    0.000000  \n",
       "25%                   0.071460    0.000000  \n",
       "50%                   0.080040    1.000000  \n",
       "75%                   0.092080    1.000000  \n",
       "max                   0.207500    1.000000  \n",
       "\n",
       "[8 rows x 31 columns]"
      ]
     },
     "execution_count": 7,
     "metadata": {},
     "output_type": "execute_result"
    }
   ],
   "source": [
    "data.describe()"
   ]
  },
  {
   "cell_type": "code",
   "execution_count": 8,
   "metadata": {},
   "outputs": [
    {
     "name": "stdout",
     "output_type": "stream",
     "text": [
      "1    357\n",
      "0    212\n",
      "Name: class, dtype: int64\n"
     ]
    }
   ],
   "source": [
    "print(data['class'].value_counts()) #more 1's than 0's thats the reason mean = 0.627"
   ]
  },
  {
   "cell_type": "code",
   "execution_count": 9,
   "metadata": {},
   "outputs": [
    {
     "name": "stdout",
     "output_type": "stream",
     "text": [
      "['malignant' 'benign']\n"
     ]
    }
   ],
   "source": [
    "print(breast_cancer.target_names) # this will give the names of the classes available for this dataset"
   ]
  },
  {
   "cell_type": "code",
   "execution_count": 10,
   "metadata": {},
   "outputs": [
    {
     "data": {
      "text/html": [
       "<div>\n",
       "<style scoped>\n",
       "    .dataframe tbody tr th:only-of-type {\n",
       "        vertical-align: middle;\n",
       "    }\n",
       "\n",
       "    .dataframe tbody tr th {\n",
       "        vertical-align: top;\n",
       "    }\n",
       "\n",
       "    .dataframe thead th {\n",
       "        text-align: right;\n",
       "    }\n",
       "</style>\n",
       "<table border=\"1\" class=\"dataframe\">\n",
       "  <thead>\n",
       "    <tr style=\"text-align: right;\">\n",
       "      <th></th>\n",
       "      <th>mean radius</th>\n",
       "      <th>mean texture</th>\n",
       "      <th>mean perimeter</th>\n",
       "      <th>mean area</th>\n",
       "      <th>mean smoothness</th>\n",
       "      <th>mean compactness</th>\n",
       "      <th>mean concavity</th>\n",
       "      <th>mean concave points</th>\n",
       "      <th>mean symmetry</th>\n",
       "      <th>mean fractal dimension</th>\n",
       "      <th>...</th>\n",
       "      <th>worst radius</th>\n",
       "      <th>worst texture</th>\n",
       "      <th>worst perimeter</th>\n",
       "      <th>worst area</th>\n",
       "      <th>worst smoothness</th>\n",
       "      <th>worst compactness</th>\n",
       "      <th>worst concavity</th>\n",
       "      <th>worst concave points</th>\n",
       "      <th>worst symmetry</th>\n",
       "      <th>worst fractal dimension</th>\n",
       "    </tr>\n",
       "    <tr>\n",
       "      <th>class</th>\n",
       "      <th></th>\n",
       "      <th></th>\n",
       "      <th></th>\n",
       "      <th></th>\n",
       "      <th></th>\n",
       "      <th></th>\n",
       "      <th></th>\n",
       "      <th></th>\n",
       "      <th></th>\n",
       "      <th></th>\n",
       "      <th></th>\n",
       "      <th></th>\n",
       "      <th></th>\n",
       "      <th></th>\n",
       "      <th></th>\n",
       "      <th></th>\n",
       "      <th></th>\n",
       "      <th></th>\n",
       "      <th></th>\n",
       "      <th></th>\n",
       "      <th></th>\n",
       "    </tr>\n",
       "  </thead>\n",
       "  <tbody>\n",
       "    <tr>\n",
       "      <th>0</th>\n",
       "      <td>17.462830</td>\n",
       "      <td>21.604906</td>\n",
       "      <td>115.365377</td>\n",
       "      <td>978.376415</td>\n",
       "      <td>0.102898</td>\n",
       "      <td>0.145188</td>\n",
       "      <td>0.160775</td>\n",
       "      <td>0.087990</td>\n",
       "      <td>0.192909</td>\n",
       "      <td>0.062680</td>\n",
       "      <td>...</td>\n",
       "      <td>21.134811</td>\n",
       "      <td>29.318208</td>\n",
       "      <td>141.370330</td>\n",
       "      <td>1422.286321</td>\n",
       "      <td>0.144845</td>\n",
       "      <td>0.374824</td>\n",
       "      <td>0.450606</td>\n",
       "      <td>0.182237</td>\n",
       "      <td>0.323468</td>\n",
       "      <td>0.091530</td>\n",
       "    </tr>\n",
       "    <tr>\n",
       "      <th>1</th>\n",
       "      <td>12.146524</td>\n",
       "      <td>17.914762</td>\n",
       "      <td>78.075406</td>\n",
       "      <td>462.790196</td>\n",
       "      <td>0.092478</td>\n",
       "      <td>0.080085</td>\n",
       "      <td>0.046058</td>\n",
       "      <td>0.025717</td>\n",
       "      <td>0.174186</td>\n",
       "      <td>0.062867</td>\n",
       "      <td>...</td>\n",
       "      <td>13.379801</td>\n",
       "      <td>23.515070</td>\n",
       "      <td>87.005938</td>\n",
       "      <td>558.899440</td>\n",
       "      <td>0.124959</td>\n",
       "      <td>0.182673</td>\n",
       "      <td>0.166238</td>\n",
       "      <td>0.074444</td>\n",
       "      <td>0.270246</td>\n",
       "      <td>0.079442</td>\n",
       "    </tr>\n",
       "  </tbody>\n",
       "</table>\n",
       "<p>2 rows × 30 columns</p>\n",
       "</div>"
      ],
      "text/plain": [
       "       mean radius  mean texture  mean perimeter   mean area  mean smoothness  \\\n",
       "class                                                                           \n",
       "0        17.462830     21.604906      115.365377  978.376415         0.102898   \n",
       "1        12.146524     17.914762       78.075406  462.790196         0.092478   \n",
       "\n",
       "       mean compactness  mean concavity  mean concave points  mean symmetry  \\\n",
       "class                                                                         \n",
       "0              0.145188        0.160775             0.087990       0.192909   \n",
       "1              0.080085        0.046058             0.025717       0.174186   \n",
       "\n",
       "       mean fractal dimension  ...  worst radius  worst texture  \\\n",
       "class                          ...                                \n",
       "0                    0.062680  ...     21.134811      29.318208   \n",
       "1                    0.062867  ...     13.379801      23.515070   \n",
       "\n",
       "       worst perimeter   worst area  worst smoothness  worst compactness  \\\n",
       "class                                                                      \n",
       "0           141.370330  1422.286321          0.144845           0.374824   \n",
       "1            87.005938   558.899440          0.124959           0.182673   \n",
       "\n",
       "       worst concavity  worst concave points  worst symmetry  \\\n",
       "class                                                          \n",
       "0             0.450606              0.182237        0.323468   \n",
       "1             0.166238              0.074444        0.270246   \n",
       "\n",
       "       worst fractal dimension  \n",
       "class                           \n",
       "0                     0.091530  \n",
       "1                     0.079442  \n",
       "\n",
       "[2 rows x 30 columns]"
      ]
     },
     "execution_count": 10,
     "metadata": {},
     "output_type": "execute_result"
    }
   ],
   "source": [
    "data.groupby('class').mean()# grouping by output class "
   ]
  },
  {
   "cell_type": "markdown",
   "metadata": {},
   "source": [
    "# Train test split"
   ]
  },
  {
   "cell_type": "code",
   "execution_count": 11,
   "metadata": {},
   "outputs": [],
   "source": [
    "from sklearn.model_selection import train_test_split"
   ]
  },
  {
   "cell_type": "code",
   "execution_count": 12,
   "metadata": {},
   "outputs": [],
   "source": [
    "X = data.drop('class',axis=1)\n",
    "Y = data['class']"
   ]
  },
  {
   "cell_type": "code",
   "execution_count": 13,
   "metadata": {},
   "outputs": [
    {
     "data": {
      "text/plain": [
       "pandas.core.frame.DataFrame"
      ]
     },
     "execution_count": 13,
     "metadata": {},
     "output_type": "execute_result"
    }
   ],
   "source": [
    "type(X)"
   ]
  },
  {
   "cell_type": "code",
   "execution_count": 14,
   "metadata": {},
   "outputs": [],
   "source": [
    "X_train,X_test,Y_train,Y_test = train_test_split(X,Y,test_size=0.1) #10% only for testing"
   ]
  },
  {
   "cell_type": "code",
   "execution_count": 15,
   "metadata": {},
   "outputs": [
    {
     "name": "stdout",
     "output_type": "stream",
     "text": [
      "(569, 30) (512, 30) (57, 30)\n"
     ]
    }
   ],
   "source": [
    "print(X.shape,X_train.shape,X_test.shape)"
   ]
  },
  {
   "cell_type": "code",
   "execution_count": 16,
   "metadata": {},
   "outputs": [
    {
     "name": "stdout",
     "output_type": "stream",
     "text": [
      "(569,) (512,) (57,)\n"
     ]
    }
   ],
   "source": [
    "print(Y.shape,Y_train.shape,Y_test.shape)"
   ]
  },
  {
   "cell_type": "code",
   "execution_count": 17,
   "metadata": {},
   "outputs": [
    {
     "name": "stdout",
     "output_type": "stream",
     "text": [
      "0.6274165202108963 0.61328125 0.7543859649122807\n"
     ]
    }
   ],
   "source": [
    "print(Y.mean(),Y_train.mean(),Y_test.mean()) #since the Y_test mean is less than the Y_train so we need to change this as Y should be representative of X"
   ]
  },
  {
   "cell_type": "code",
   "execution_count": 18,
   "metadata": {},
   "outputs": [],
   "source": [
    "X_train,X_test,Y_train,Y_test = train_test_split(X,Y,test_size=0.1,stratify=Y,random_state=1) #here the data is stratified and random_state is random_seed(for model reproducibility)"
   ]
  },
  {
   "cell_type": "markdown",
   "metadata": {},
   "source": [
    "[Stratified sampling](https://explorable.com/stratified-sampling)\n"
   ]
  },
  {
   "cell_type": "code",
   "execution_count": 19,
   "metadata": {},
   "outputs": [
    {
     "name": "stdout",
     "output_type": "stream",
     "text": [
      "(569, 30) (512, 30) (57, 30)\n",
      "(569,) (512,) (57,)\n",
      "0.6274165202108963 0.626953125 0.631578947368421\n"
     ]
    }
   ],
   "source": [
    "print(X.shape,X_train.shape,X_test.shape)\n",
    "print(Y.shape,Y_train.shape,Y_test.shape)\n",
    "print(Y.mean(),Y_train.mean(),Y_test.mean())# if we see the data is stratified so are of similar ratios"
   ]
  },
  {
   "cell_type": "code",
   "execution_count": 20,
   "metadata": {},
   "outputs": [
    {
     "name": "stdout",
     "output_type": "stream",
     "text": [
      "mean radius                 14.127292\n",
      "mean texture                19.289649\n",
      "mean perimeter              91.969033\n",
      "mean area                  654.889104\n",
      "mean smoothness              0.096360\n",
      "mean compactness             0.104341\n",
      "mean concavity               0.088799\n",
      "mean concave points          0.048919\n",
      "mean symmetry                0.181162\n",
      "mean fractal dimension       0.062798\n",
      "radius error                 0.405172\n",
      "texture error                1.216853\n",
      "perimeter error              2.866059\n",
      "area error                  40.337079\n",
      "smoothness error             0.007041\n",
      "compactness error            0.025478\n",
      "concavity error              0.031894\n",
      "concave points error         0.011796\n",
      "symmetry error               0.020542\n",
      "fractal dimension error      0.003795\n",
      "worst radius                16.269190\n",
      "worst texture               25.677223\n",
      "worst perimeter            107.261213\n",
      "worst area                 880.583128\n",
      "worst smoothness             0.132369\n",
      "worst compactness            0.254265\n",
      "worst concavity              0.272188\n",
      "worst concave points         0.114606\n",
      "worst symmetry               0.290076\n",
      "worst fractal dimension      0.083946\n",
      "dtype: float64 mean radius                 14.058656\n",
      "mean texture                19.309668\n",
      "mean perimeter              91.530488\n",
      "mean area                  648.097266\n",
      "mean smoothness              0.096568\n",
      "mean compactness             0.105144\n",
      "mean concavity               0.089342\n",
      "mean concave points          0.048892\n",
      "mean symmetry                0.181961\n",
      "mean fractal dimension       0.062979\n",
      "radius error                 0.403659\n",
      "texture error                1.206856\n",
      "perimeter error              2.861173\n",
      "area error                  39.935506\n",
      "smoothness error             0.007067\n",
      "compactness error            0.025681\n",
      "concavity error              0.032328\n",
      "concave points error         0.011963\n",
      "symmetry error               0.020584\n",
      "fractal dimension error      0.003815\n",
      "worst radius                16.194275\n",
      "worst texture               25.644902\n",
      "worst perimeter            106.757715\n",
      "worst area                 871.647852\n",
      "worst smoothness             0.132592\n",
      "worst compactness            0.257415\n",
      "worst concavity              0.275623\n",
      "worst concave points         0.115454\n",
      "worst symmetry               0.291562\n",
      "worst fractal dimension      0.084402\n",
      "dtype: float64 mean radius                 14.743807\n",
      "mean texture                19.109825\n",
      "mean perimeter              95.908246\n",
      "mean area                  715.896491\n",
      "mean smoothness              0.094496\n",
      "mean compactness             0.097130\n",
      "mean concavity               0.083923\n",
      "mean concave points          0.049159\n",
      "mean symmetry                0.173981\n",
      "mean fractal dimension       0.061169\n",
      "radius error                 0.418767\n",
      "texture error                1.306656\n",
      "perimeter error              2.909946\n",
      "area error                  43.944193\n",
      "smoothness error             0.006809\n",
      "compactness error            0.023659\n",
      "concavity error              0.027989\n",
      "concave points error         0.010293\n",
      "symmetry error               0.020169\n",
      "fractal dimension error      0.003618\n",
      "worst radius                16.942105\n",
      "worst texture               25.967544\n",
      "worst perimeter            111.783860\n",
      "worst area                 960.843860\n",
      "worst smoothness             0.130357\n",
      "worst compactness            0.225973\n",
      "worst concavity              0.241340\n",
      "worst concave points         0.106994\n",
      "worst symmetry               0.276719\n",
      "worst fractal dimension      0.079852\n",
      "dtype: float64\n"
     ]
    }
   ],
   "source": [
    "print(X.mean(),X_train.mean(),X_test.mean())"
   ]
  },
  {
   "cell_type": "markdown",
   "metadata": {},
   "source": [
    "# Binarization of Input"
   ]
  },
  {
   "cell_type": "code",
   "execution_count": 21,
   "metadata": {},
   "outputs": [],
   "source": [
    "import matplotlib.pyplot as plt"
   ]
  },
  {
   "cell_type": "code",
   "execution_count": 22,
   "metadata": {},
   "outputs": [
    {
     "data": {
      "image/png": "[encoded data removed]",
      "text/plain": [
       "<Figure size 432x288 with 1 Axes>"
      ]
     },
     "metadata": {
      "needs_background": "light"
     },
     "output_type": "display_data"
    }
   ],
   "source": [
    "plt.plot(X_train,'*')\n",
    "plt.show()"
   ]
  },
  {
   "cell_type": "code",
   "execution_count": 23,
   "metadata": {},
   "outputs": [
    {
     "data": {
      "image/png": "[encoded data removed]",
      "text/plain": [
       "<Figure size 432x288 with 1 Axes>"
      ]
     },
     "metadata": {
      "needs_background": "light"
     },
     "output_type": "display_data"
    }
   ],
   "source": [
    "plt.plot(X_train.T,'*') # we will be able to see the value spread out for each feature\n",
    "plt.xticks(rotation='vertical')\n",
    "plt.show()"
   ]
  },
  {
   "cell_type": "markdown",
   "metadata": {},
   "source": [
    "## Why there is a need for binarization ?\n",
    "Since we are dealing with the MP-neurons and the MP-neurons accept binary input values so we need to binarize the data"
   ]
  },
  {
   "cell_type": "code",
   "execution_count": 24,
   "metadata": {},
   "outputs": [],
   "source": [
    "X_binarized_3_train = X_train['mean area'].map(lambda x: 0 if x<1000 else 1)"
   ]
  },
  {
   "cell_type": "code",
   "execution_count": 25,
   "metadata": {},
   "outputs": [
    {
     "data": {
      "text/plain": [
       "[<matplotlib.lines.Line2D at 0x1849e58ce48>]"
      ]
     },
     "execution_count": 25,
     "metadata": {},
     "output_type": "execute_result"
    },
    {
     "data": {
      "image/png": "[encoded data removed]",
      "text/plain": [
       "<Figure size 432x288 with 1 Axes>"
      ]
     },
     "metadata": {
      "needs_background": "light"
     },
     "output_type": "display_data"
    }
   ],
   "source": [
    "plt.plot(X_binarized_3_train,'*')"
   ]
  },
  {
   "cell_type": "markdown",
   "metadata": {},
   "source": [
    "The above binarization process can be taken care more efficiently using pandas's cut method"
   ]
  },
  {
   "cell_type": "code",
   "execution_count": 26,
   "metadata": {},
   "outputs": [
    {
     "data": {
      "image/png": "[encoded data removed]",
      "text/plain": [
       "<Figure size 432x288 with 1 Axes>"
      ]
     },
     "metadata": {
      "needs_background": "light"
     },
     "output_type": "display_data"
    }
   ],
   "source": [
    "X_binarized_train = X_train.apply(pd.cut,bins=2,labels=[0,1])# we have applied pandas cut method to do binarization where it will automatically find the best threshold value to binarize the data\n",
    "\n",
    "plt.plot(X_binarized_train.T,'*') # Transposing is done so that we will be able to see the value spread out for each feature \n",
    "plt.xticks(rotation='vertical')\n",
    "plt.show()"
   ]
  },
  {
   "cell_type": "code",
   "execution_count": 27,
   "metadata": {},
   "outputs": [
    {
     "data": {
      "image/png": "[encoded data removed]",
      "text/plain": [
       "<Figure size 432x288 with 1 Axes>"
      ]
     },
     "metadata": {
      "needs_background": "light"
     },
     "output_type": "display_data"
    }
   ],
   "source": [
    "X_binarized_test = X_test.apply(pd.cut,bins=2,labels=[0,1]) #we will also binarize the test data also \n",
    "plt.plot(X_binarized_test.T,'*') # Transposing is done so that we will be able to see the value spread out for each feature \n",
    "plt.xticks(rotation='vertical')\n",
    "plt.show()"
   ]
  },
  {
   "cell_type": "markdown",
   "metadata": {},
   "source": [
    "## Type of the data\n",
    "The type of the data must be in numpy arrays so as to be fed to the model for training\n"
   ]
  },
  {
   "cell_type": "code",
   "execution_count": 28,
   "metadata": {},
   "outputs": [
    {
     "name": "stdout",
     "output_type": "stream",
     "text": [
      "<class 'pandas.core.frame.DataFrame'>\n",
      "<class 'pandas.core.frame.DataFrame'>\n",
      "<class 'numpy.ndarray'>\n",
      "<class 'numpy.ndarray'>\n"
     ]
    }
   ],
   "source": [
    "print(type(X_binarized_train))\n",
    "print(type(X_binarized_test))\n",
    "X_binarized_train=X_binarized_train.values\n",
    "X_binarized_test = X_binarized_test.values\n",
    "print(type(X_binarized_train))\n",
    "print(type(X_binarized_test))"
   ]
  },
  {
   "cell_type": "markdown",
   "metadata": {},
   "source": [
    "# Mp Neuron implementation"
   ]
  },
  {
   "cell_type": "code",
   "execution_count": 29,
   "metadata": {},
   "outputs": [],
   "source": [
    "from random import randint"
   ]
  },
  {
   "cell_type": "code",
   "execution_count": 30,
   "metadata": {},
   "outputs": [
    {
     "name": "stdout",
     "output_type": "stream",
     "text": [
      "THE DATAPOINT IS NOT MALIGNANT OR BENIGN\n",
      "THE GROUND TRUTH IS MALIGNANT\n"
     ]
    }
   ],
   "source": [
    "#TRYOUT0\n",
    "b = 3\n",
    "# i = 100\n",
    "i = randint(0,X_binarized_train.shape[0])\n",
    "\n",
    "if(np.sum(X_binarized_train[100,:]) >=b):\n",
    "    print('THE DATAPOINT IS MALIGNANT')\n",
    "else:\n",
    "    print('THE DATAPOINT IS NOT MALIGNANT OR BENIGN')\n",
    "    \n",
    "if (Y_train[i] == 1):\n",
    "    print('THE GROUND TRUTH IS MALIGNANT')\n",
    "else:\n",
    "    print('THE GROUND TRUTH IS NOT MALIGNANT OR BENIGN')"
   ]
  },
  {
   "cell_type": "code",
   "execution_count": 31,
   "metadata": {},
   "outputs": [
    {
     "name": "stdout",
     "output_type": "stream",
     "text": [
      "the accurate rows are:  77 and the accuracy is:  15.0390625 %\n"
     ]
    }
   ],
   "source": [
    "#TRYOUT1\n",
    "b=3\n",
    "Y_pred_train=[]\n",
    "accurate_rows=0\n",
    "\n",
    "for x,y in zip(X_binarized_train,Y_train):\n",
    "    y_pred = (np.sum(x) >= b) #the model will be applied for all the values of X_binarized_train\n",
    "    Y_pred_train.append(y_pred)# appending all the prediction\n",
    "    accurate_rows+=(y == y_pred) #if y=y_pred then accurate_rows++\n",
    "    \n",
    "print('the accurate rows are: ',accurate_rows,'and the accuracy is: ',(accurate_rows/X_binarized_train.shape[0])*100,'%')"
   ]
  },
  {
   "cell_type": "code",
   "execution_count": 32,
   "metadata": {},
   "outputs": [
    {
     "name": "stdout",
     "output_type": "stream",
     "text": [
      "the value of b: 0 the accurate rows are:  321 and the accuracy is:  62.6953125 %\n",
      "the value of b: 1 the accurate rows are:  123 and the accuracy is:  24.0234375 %\n",
      "the value of b: 2 the accurate rows are:  95 and the accuracy is:  18.5546875 %\n",
      "the value of b: 3 the accurate rows are:  77 and the accuracy is:  15.0390625 %\n",
      "the value of b: 4 the accurate rows are:  79 and the accuracy is:  15.4296875 %\n",
      "the value of b: 5 the accurate rows are:  93 and the accuracy is:  18.1640625 %\n",
      "the value of b: 6 the accurate rows are:  110 and the accuracy is:  21.484375 %\n",
      "the value of b: 7 the accurate rows are:  125 and the accuracy is:  24.4140625 %\n",
      "the value of b: 8 the accurate rows are:  141 and the accuracy is:  27.5390625 %\n",
      "the value of b: 9 the accurate rows are:  153 and the accuracy is:  29.8828125 %\n",
      "the value of b: 10 the accurate rows are:  160 and the accuracy is:  31.25 %\n",
      "the value of b: 11 the accurate rows are:  168 and the accuracy is:  32.8125 %\n",
      "the value of b: 12 the accurate rows are:  172 and the accuracy is:  33.59375 %\n",
      "the value of b: 13 the accurate rows are:  176 and the accuracy is:  34.375 %\n",
      "the value of b: 14 the accurate rows are:  180 and the accuracy is:  35.15625 %\n",
      "the value of b: 15 the accurate rows are:  183 and the accuracy is:  35.7421875 %\n",
      "the value of b: 16 the accurate rows are:  188 and the accuracy is:  36.71875 %\n",
      "the value of b: 17 the accurate rows are:  189 and the accuracy is:  36.9140625 %\n",
      "the value of b: 18 the accurate rows are:  191 and the accuracy is:  37.3046875 %\n",
      "the value of b: 19 the accurate rows are:  191 and the accuracy is:  37.3046875 %\n",
      "the value of b: 20 the accurate rows are:  191 and the accuracy is:  37.3046875 %\n",
      "the value of b: 21 the accurate rows are:  191 and the accuracy is:  37.3046875 %\n",
      "the value of b: 22 the accurate rows are:  191 and the accuracy is:  37.3046875 %\n",
      "the value of b: 23 the accurate rows are:  191 and the accuracy is:  37.3046875 %\n",
      "the value of b: 24 the accurate rows are:  191 and the accuracy is:  37.3046875 %\n",
      "the value of b: 25 the accurate rows are:  191 and the accuracy is:  37.3046875 %\n",
      "the value of b: 26 the accurate rows are:  191 and the accuracy is:  37.3046875 %\n",
      "the value of b: 27 the accurate rows are:  191 and the accuracy is:  37.3046875 %\n",
      "the value of b: 28 the accurate rows are:  191 and the accuracy is:  37.3046875 %\n",
      "the value of b: 29 the accurate rows are:  191 and the accuracy is:  37.3046875 %\n",
      "the value of b: 30 the accurate rows are:  191 and the accuracy is:  37.3046875 %\n"
     ]
    }
   ],
   "source": [
    "#TRYOUT2 & THE ACTUAL ALGORITHM (MP-Neuron)\n",
    "for b in range(X_binarized_train.shape[1]+1):#till the range no of columns\n",
    "    Y_pred_train=[]\n",
    "    accurate_rows=0\n",
    "    for x,y in zip(X_binarized_train,Y_train):\n",
    "        y_pred = (np.sum(x) >= b) #the model will be applied for all the values of X_binarized_train\n",
    "        Y_pred_train.append(y_pred)# appending all the prediction\n",
    "        accurate_rows+=(y == y_pred) #if y=y_pred then accurate_rows++\n",
    "\n",
    "    print('the value of b:',b,'the accurate rows are: ',accurate_rows,'and the accuracy is: ',(accurate_rows/X_binarized_train.shape[0])*100,'%')"
   ]
  },
  {
   "cell_type": "markdown",
   "metadata": {},
   "source": [
    "By looking at the above data we can see that accuracy is highest when b=0 and the output will be always 1 as ($x_1+x_2,.....) >=b$ where b=0 thus if b=0 then the output will always be 1 for MP_Neuron and from the above data 62.6953125 % of the above data points have output as Malignant sample."
   ]
  },
  {
   "cell_type": "markdown",
   "metadata": {},
   "source": [
    "## But we are not getting the good result right ?\n",
    "Trying to flip the label values and check"
   ]
  },
  {
   "cell_type": "code",
   "execution_count": 33,
   "metadata": {},
   "outputs": [
    {
     "data": {
      "image/png": "[encoded data removed]",
      "text/plain": [
       "<Figure size 432x288 with 1 Axes>"
      ]
     },
     "metadata": {
      "needs_background": "light"
     },
     "output_type": "display_data"
    }
   ],
   "source": [
    "X_binarized_train = X_train.apply(pd.cut,bins=2,labels=[1,0])# we have applied pandas cut method to do binarization where it will automatically find the best threshold value to binarize the data\n",
    "\n",
    "plt.plot(X_binarized_train.T,'*') # Transposing is done so that we will be able to see the value spread out for each feature \n",
    "plt.xticks(rotation='vertical')\n",
    "plt.show()"
   ]
  },
  {
   "cell_type": "code",
   "execution_count": 34,
   "metadata": {},
   "outputs": [
    {
     "data": {
      "image/png": "[encoded data removed]",
      "text/plain": [
       "<Figure size 432x288 with 1 Axes>"
      ]
     },
     "metadata": {
      "needs_background": "light"
     },
     "output_type": "display_data"
    }
   ],
   "source": [
    "X_binarized_test = X_test.apply(pd.cut,bins=2,labels=[1,0]) #we will also binarize the test data also \n",
    "plt.plot(X_binarized_test.T,'*') # Transposing is done so that we will be able to see the value spread out for each feature \n",
    "plt.xticks(rotation='vertical')\n",
    "plt.show()"
   ]
  },
  {
   "cell_type": "code",
   "execution_count": 35,
   "metadata": {},
   "outputs": [
    {
     "name": "stdout",
     "output_type": "stream",
     "text": [
      "<class 'pandas.core.frame.DataFrame'>\n",
      "<class 'pandas.core.frame.DataFrame'>\n",
      "<class 'numpy.ndarray'>\n",
      "<class 'numpy.ndarray'>\n",
      "the value of b: 0 the accurate rows are:  321 and the accuracy is:  62.6953125 %\n",
      "the value of b: 1 the accurate rows are:  321 and the accuracy is:  62.6953125 %\n",
      "the value of b: 2 the accurate rows are:  321 and the accuracy is:  62.6953125 %\n",
      "the value of b: 3 the accurate rows are:  321 and the accuracy is:  62.6953125 %\n",
      "the value of b: 4 the accurate rows are:  321 and the accuracy is:  62.6953125 %\n",
      "the value of b: 5 the accurate rows are:  321 and the accuracy is:  62.6953125 %\n",
      "the value of b: 6 the accurate rows are:  321 and the accuracy is:  62.6953125 %\n",
      "the value of b: 7 the accurate rows are:  321 and the accuracy is:  62.6953125 %\n",
      "the value of b: 8 the accurate rows are:  321 and the accuracy is:  62.6953125 %\n",
      "the value of b: 9 the accurate rows are:  321 and the accuracy is:  62.6953125 %\n",
      "the value of b: 10 the accurate rows are:  321 and the accuracy is:  62.6953125 %\n",
      "the value of b: 11 the accurate rows are:  321 and the accuracy is:  62.6953125 %\n",
      "the value of b: 12 the accurate rows are:  321 and the accuracy is:  62.6953125 %\n",
      "the value of b: 13 the accurate rows are:  321 and the accuracy is:  62.6953125 %\n",
      "the value of b: 14 the accurate rows are:  323 and the accuracy is:  63.0859375 %\n",
      "the value of b: 15 the accurate rows are:  324 and the accuracy is:  63.28125 %\n",
      "the value of b: 16 the accurate rows are:  329 and the accuracy is:  64.2578125 %\n",
      "the value of b: 17 the accurate rows are:  332 and the accuracy is:  64.84375 %\n",
      "the value of b: 18 the accurate rows are:  336 and the accuracy is:  65.625 %\n",
      "the value of b: 19 the accurate rows are:  340 and the accuracy is:  66.40625 %\n",
      "the value of b: 20 the accurate rows are:  344 and the accuracy is:  67.1875 %\n",
      "the value of b: 21 the accurate rows are:  352 and the accuracy is:  68.75 %\n",
      "the value of b: 22 the accurate rows are:  359 and the accuracy is:  70.1171875 %\n",
      "the value of b: 23 the accurate rows are:  371 and the accuracy is:  72.4609375 %\n",
      "the value of b: 24 the accurate rows are:  387 and the accuracy is:  75.5859375 %\n",
      "the value of b: 25 the accurate rows are:  402 and the accuracy is:  78.515625 %\n",
      "the value of b: 26 the accurate rows are:  419 and the accuracy is:  81.8359375 %\n",
      "the value of b: 27 the accurate rows are:  433 and the accuracy is:  84.5703125 %\n",
      "the value of b: 28 the accurate rows are:  435 and the accuracy is:  84.9609375 %\n",
      "the value of b: 29 the accurate rows are:  417 and the accuracy is:  81.4453125 %\n",
      "the value of b: 30 the accurate rows are:  389 and the accuracy is:  75.9765625 %\n"
     ]
    }
   ],
   "source": [
    "print(type(X_binarized_train))\n",
    "print(type(X_binarized_test))\n",
    "X_binarized_train=X_binarized_train.values\n",
    "X_binarized_test = X_binarized_test.values\n",
    "print(type(X_binarized_train))\n",
    "print(type(X_binarized_test))\n",
    "\n",
    "#TRYOUT2 & THE ACTUAL ALGORITHM (MP-Neuron)\n",
    "for b in range(X_binarized_train.shape[1]+1):#till the range no of columns\n",
    "    Y_pred_train=[]\n",
    "    accurate_rows=0\n",
    "    for x,y in zip(X_binarized_train,Y_train):\n",
    "        y_pred = (np.sum(x) >= b) #the model will be applied for all the values of X_binarized_train\n",
    "        Y_pred_train.append(y_pred)# appending all the prediction\n",
    "        accurate_rows+=(y == y_pred) #if y=y_pred then accurate_rows++\n",
    "\n",
    "    print('the value of b:',b,'the accurate rows are: ',accurate_rows,'and the accuracy is: ',(accurate_rows/X_binarized_train.shape[0])*100,'%')"
   ]
  },
  {
   "cell_type": "markdown",
   "metadata": {},
   "source": [
    "From the above output we can easily say that the best accuracy = 84.9% and the best parameter is b=28"
   ]
  },
  {
   "cell_type": "markdown",
   "metadata": {},
   "source": [
    "# Inferencing "
   ]
  },
  {
   "cell_type": "code",
   "execution_count": 36,
   "metadata": {},
   "outputs": [
    {
     "name": "stdout",
     "output_type": "stream",
     "text": [
      "the value of b: 30 the accurate rows are:  0 and the accuracy is:  47.368421052631575 %\n"
     ]
    }
   ],
   "source": [
    "from sklearn.metrics import accuracy_score\n",
    "Y_pred_test=[]\n",
    "accurate_rows=0\n",
    "for x in X_binarized_test:\n",
    "    y_pred = (np.sum(x) >= b) #the model will be applied for all the values of X_binarized_train\n",
    "    Y_pred_test.append(y_pred)# appending all the prediction\n",
    "accuracy = accuracy_score(Y_pred_test,Y_test)\n",
    "print('the value of b:',b,'the accurate rows are: ',accurate_rows,'and the accuracy is: ',accuracy*100,'%')"
   ]
  },
  {
   "cell_type": "markdown",
   "metadata": {},
   "source": [
    "$\\therefore$ The best model from training data got 78.9% accuracy on the test data.\n",
    "This is clearly a problem of **overfitting**"
   ]
  },
  {
   "cell_type": "markdown",
   "metadata": {},
   "source": [
    "# Templateize the MP-Neuron model"
   ]
  },
  {
   "cell_type": "code",
   "execution_count": 37,
   "metadata": {},
   "outputs": [],
   "source": [
    "class MPNeuron:\n",
    "    def __init__(self):\n",
    "        self.b = None\n",
    "        \n",
    "    def model(self,x):\n",
    "        return(sum(x) >= self.b)\n",
    "    \n",
    "    def predict(self,X):\n",
    "        Y = []\n",
    "        for x in X:\n",
    "            result = self.model(x)\n",
    "            Y.append(result)\n",
    "        return np.array(Y)\n",
    "    \n",
    "    def fit(self,X,Y):\n",
    "        accuracy = {}\n",
    "        \n",
    "        for b in range(X.shape[1]+1):\n",
    "            self.b = b\n",
    "            Y_pred = self.predict(X)\n",
    "            accuracy[b] = accuracy_score(Y_pred,Y)\n",
    "            \n",
    "        best_b = max(accuracy,key=accuracy.get)\n",
    "        self.b = best_b\n",
    "        print('optimal value of b:',best_b)\n",
    "        print('highest accuracy:',accuracy[best_b])"
   ]
  },
  {
   "cell_type": "code",
   "execution_count": 38,
   "metadata": {},
   "outputs": [
    {
     "name": "stdout",
     "output_type": "stream",
     "text": [
      "optimal value of b: 28\n",
      "highest accuracy: 0.849609375\n"
     ]
    }
   ],
   "source": [
    "mp_neuron = MPNeuron()\n",
    "mp_neuron.fit(X_binarized_train,Y_train)"
   ]
  },
  {
   "cell_type": "code",
   "execution_count": 39,
   "metadata": {},
   "outputs": [
    {
     "name": "stdout",
     "output_type": "stream",
     "text": [
      "THE FINAL ACCURACY ON THE UNSEEN DATA IS: 78.94736842105263 %\n"
     ]
    }
   ],
   "source": [
    "# For inferencing part\n",
    "Y_test_pred = mp_neuron.predict(X_binarized_test)\n",
    "accuracy_test = accuracy_score(Y_test_pred,Y_test)\n",
    "print('THE FINAL ACCURACY ON THE UNSEEN DATA IS:',accuracy_test*100,'%')"
   ]
  },
  {
   "cell_type": "markdown",
   "metadata": {},
   "source": [
    "# Templateize the Perceptron model\n",
    "In the perceptron model since the input data is real so there is no need to binarize the data and the Perceptron model is given by:\n",
    "<br>$y=1, \\mbox{if} \\sum_i w_i*x_i >=b$     <br>   $y=0, \\mbox{otherwise}$"
   ]
  },
  {
   "cell_type": "code",
   "execution_count": 1,
   "metadata": {},
   "outputs": [
    {
     "ename": "NameError",
     "evalue": "name 'X_train' is not defined",
     "output_type": "error",
     "traceback": [
      "\u001b[1;31m---------------------------------------------------------------------------\u001b[0m",
      "\u001b[1;31mNameError\u001b[0m                                 Traceback (most recent call last)",
      "\u001b[1;32m<ipython-input-1-d7a2e6638c8e>\u001b[0m in \u001b[0;36m<module>\u001b[1;34m\u001b[0m\n\u001b[1;32m----> 1\u001b[1;33m \u001b[0mX_train\u001b[0m \u001b[1;33m=\u001b[0m \u001b[0mX_train\u001b[0m\u001b[1;33m.\u001b[0m\u001b[0mvalues\u001b[0m\u001b[1;33m\u001b[0m\u001b[1;33m\u001b[0m\u001b[0m\n\u001b[0m\u001b[0;32m      2\u001b[0m \u001b[0mX_test\u001b[0m \u001b[1;33m=\u001b[0m \u001b[0mX_test\u001b[0m\u001b[1;33m.\u001b[0m\u001b[0mvalues\u001b[0m\u001b[1;33m\u001b[0m\u001b[1;33m\u001b[0m\u001b[0m\n\u001b[0;32m      3\u001b[0m \u001b[1;32mclass\u001b[0m \u001b[0mPerceptron\u001b[0m\u001b[1;33m:\u001b[0m\u001b[1;33m\u001b[0m\u001b[1;33m\u001b[0m\u001b[0m\n\u001b[0;32m      4\u001b[0m     \u001b[1;32mdef\u001b[0m \u001b[0m__init__\u001b[0m\u001b[1;33m(\u001b[0m\u001b[0mself\u001b[0m\u001b[1;33m)\u001b[0m\u001b[1;33m:\u001b[0m\u001b[1;33m\u001b[0m\u001b[1;33m\u001b[0m\u001b[0m\n\u001b[0;32m      5\u001b[0m         \u001b[0mself\u001b[0m\u001b[1;33m.\u001b[0m\u001b[0mb\u001b[0m \u001b[1;33m=\u001b[0m \u001b[1;32mNone\u001b[0m\u001b[1;33m\u001b[0m\u001b[1;33m\u001b[0m\u001b[0m\n",
      "\u001b[1;31mNameError\u001b[0m: name 'X_train' is not defined"
     ]
    }
   ],
   "source": [
    "X_train = X_train.values\n",
    "X_test = X_test.values\n",
    "class Perceptron:\n",
    "    def __init__(self):\n",
    "        self.b = None\n",
    "        self.w = None\n",
    "        \n",
    "    def model(self,x):\n",
    "        return 1 if(np.dot(self.w,x) >= self.b) else 0\n",
    "    \n",
    "    def predict(self,X):\n",
    "        Y = []\n",
    "        for x in X:\n",
    "            result = self.model(x)\n",
    "            Y.append(result)\n",
    "        return np.array(Y)\n",
    "    def fit(self,X,Y):\n",
    "        self.w = np.ones(X.shape[1])\n",
    "        self.b = 0\n",
    "        \n",
    "        for x,y in zip(X,Y):\n",
    "            y_pred = self.model(x) #get the prediction\n",
    "            \n",
    "            if y_pred == 0 and y ==1:\n",
    "                self.w = self.w+x #weight update\n",
    "                self.b = self.b+1#bias update\n",
    "            elif y_pred == 1 and y ==0:\n",
    "                self.w = self.w-x#weight update\n",
    "                self.b = self.b-1#bias update"
   ]
  },
  {
   "cell_type": "code",
   "execution_count": null,
   "metadata": {},
   "outputs": [],
   "source": [
    "perceptron = Perceptron()\n",
    "perceptron.fit(X_train,Y_train)"
   ]
  },
  {
   "cell_type": "markdown",
   "metadata": {},
   "source": [
    "## Plotting 'w' values in a graph"
   ]
  },
  {
   "cell_type": "code",
   "execution_count": null,
   "metadata": {},
   "outputs": [],
   "source": [
    "plt.plot(perceptron.w)\n",
    "plt.show()"
   ]
  },
  {
   "cell_type": "code",
   "execution_count": 45,
   "metadata": {},
   "outputs": [
    {
     "name": "stdout",
     "output_type": "stream",
     "text": [
      "The accuracy on train data is  37.3046875 %\n"
     ]
    }
   ],
   "source": [
    "Y_pred_train = perceptron.predict(X_train)\n",
    "print('The accuracy on train data is ',accuracy_score(Y_pred_train,Y_train)*100,'%')"
   ]
  },
  {
   "cell_type": "code",
   "execution_count": 46,
   "metadata": {},
   "outputs": [
    {
     "name": "stdout",
     "output_type": "stream",
     "text": [
      "The accuracy on train data is  36.84210526315789 %\n"
     ]
    }
   ],
   "source": [
    "Y_pred_test = perceptron.predict(X_test)\n",
    "print('The accuracy on train data is ',accuracy_score(Y_pred_test,Y_test)*100,'%')"
   ]
  },
  {
   "cell_type": "markdown",
   "metadata": {},
   "source": [
    "From the above results the model is not performing well which can be seen from the accuracy on train and test as 37.3% and 36.84% respectively.\n",
    "Now how to increase the accuracy of the model ?\n",
    "If we look at the model we can see that our model is giving the prediction based on the single iteration over the data and from there we are getting this result. So to increase the model accuracy we need to iterate over the whole data multiple times with weights and bias updates and reach at the best accuracy and for that we will be bringing out the concept of Epochs into the picture.\n",
    "**An Epoch is a 1 complete run over the entire data**\n",
    "So in nutshell we will be training our model for multiple epochs"
   ]
  },
  {
   "cell_type": "markdown",
   "metadata": {},
   "source": [
    "## Training the model on Epochs\n",
    "**Note: The code will start changing from the fit() method**"
   ]
  },
  {
   "cell_type": "code",
   "execution_count": 47,
   "metadata": {},
   "outputs": [],
   "source": [
    "# X_train = X_train.values\n",
    "# X_test = X_test.values\n",
    "class Perceptron:\n",
    "    def __init__(self):\n",
    "        self.b = None\n",
    "        self.w = None\n",
    "        \n",
    "    def model(self,x):\n",
    "        return 1 if(np.dot(self.w,x) >= self.b) else 0\n",
    "    \n",
    "    def predict(self,X):\n",
    "        Y = []\n",
    "        for x in X:\n",
    "            result = self.model(x)\n",
    "            Y.append(result)\n",
    "        return np.array(Y)\n",
    "    \n",
    "    def fit(self,X,Y,epochs=1):\n",
    "        self.w = np.ones(X.shape[1])\n",
    "        self.b = 0\n",
    "        for i in range(epochs):\n",
    "            for x,y in zip(X,Y):\n",
    "                y_pred = self.model(x) #get the prediction\n",
    "\n",
    "                if y_pred == 0 and y ==1:\n",
    "                    self.w = self.w+x #weight update\n",
    "                    self.b = self.b+1#bias update\n",
    "                elif y_pred == 1 and y ==0:\n",
    "                    self.w = self.w-x#weight update\n",
    "                    self.b = self.b-1#bias update\n",
    "                    "
   ]
  },
  {
   "cell_type": "code",
   "execution_count": 48,
   "metadata": {},
   "outputs": [
    {
     "name": "stdout",
     "output_type": "stream",
     "text": [
      "The accuracy on train data is  91.015625 %\n",
      "The accuracy on train data is  94.73684210526315 %\n"
     ]
    }
   ],
   "source": [
    "perceptron = Perceptron()\n",
    "perceptron.fit(X_train,Y_train,2) # for just 2 epochs we are getting excellent accuracy and after which the model accuracy is oscillating\n",
    "\n",
    "Y_pred_train = perceptron.predict(X_train)\n",
    "print('The accuracy on train data is ',accuracy_score(Y_pred_train,Y_train)*100,'%')\n",
    "Y_pred_test = perceptron.predict(X_test)\n",
    "print('The accuracy on train data is ',accuracy_score(Y_pred_test,Y_test)*100,'%')"
   ]
  },
  {
   "cell_type": "markdown",
   "metadata": {},
   "source": [
    "To understand which parameters are giving the better result we can implement the plotting inside the fit() method"
   ]
  },
  {
   "cell_type": "code",
   "execution_count": 49,
   "metadata": {},
   "outputs": [],
   "source": [
    "# X_train = X_train.values\n",
    "# X_test = X_test.values\n",
    "class Perceptron:\n",
    "    def __init__(self):\n",
    "        self.b = None\n",
    "        self.w = None\n",
    "        \n",
    "    def model(self,x):\n",
    "        return 1 if(np.dot(self.w,x) >= self.b) else 0\n",
    "    \n",
    "    def predict(self,X):\n",
    "        Y = []\n",
    "        for x in X:\n",
    "            result = self.model(x)\n",
    "            Y.append(result)\n",
    "        return np.array(Y)\n",
    "    \n",
    "    def fit(self,X,Y,epochs=1):\n",
    "        self.w = np.ones(X.shape[1])\n",
    "        self.b = 0\n",
    "        accuracy ={}\n",
    "        best_b = 0\n",
    "        best_w = 0\n",
    "        max_accuracy = 0\n",
    "        for i in range(epochs):\n",
    "            for x,y in zip(X,Y):\n",
    "                y_pred = self.model(x) #get the prediction\n",
    "                if y_pred == 0 and y ==1:\n",
    "                    self.w = self.w+x #weight update\n",
    "                    self.b = self.b+1#bias update\n",
    "                elif y_pred == 1 and y ==0:\n",
    "                    self.w = self.w-x#weight update\n",
    "                    self.b = self.b-1#bias update\n",
    "            \n",
    "            accuracy[i] = accuracy_score(self.predict(X),Y)\n",
    "            if max_accuracy < accuracy[i]:\n",
    "                print('*********************i=',i)\n",
    "                max_accuracy = accuracy[i]\n",
    "                best_b =self.b\n",
    "                best_w =self.w\n",
    "                best_e = i\n",
    "        #implementing also the checkpoints so that we can evaluate the checkpoint model on the train data\n",
    "        self.b = best_b\n",
    "        self.w = best_w\n",
    "        ################################################\n",
    "        plt.plot(list(accuracy.values()))\n",
    "        plt.show()\n",
    "        return (max_accuracy,best_w,best_b,best_e)\n",
    "                    "
   ]
  },
  {
   "cell_type": "code",
   "execution_count": 50,
   "metadata": {},
   "outputs": [
    {
     "name": "stdout",
     "output_type": "stream",
     "text": [
      "*********************i= 0\n",
      "*********************i= 1\n",
      "*********************i= 32\n",
      "*********************i= 34\n",
      "*********************i= 42\n",
      "*********************i= 43\n",
      "*********************i= 60\n",
      "*********************i= 193\n"
     ]
    },
    {
     "data": {
      "image/png": "[encoded data removed]",
      "text/plain": [
       "<Figure size 432x288 with 1 Axes>"
      ]
     },
     "metadata": {
      "needs_background": "light"
     },
     "output_type": "display_data"
    },
    {
     "name": "stdout",
     "output_type": "stream",
     "text": [
      "The max accuracy is  92.96875 % best params are b= 949 w= [ 6.78021000e+03 -6.77090000e+02  2.94032500e+04  4.38060000e+03\n",
      " -1.62760000e+00 -3.55894280e+02 -5.38339884e+02 -2.15023596e+02\n",
      " -1.70843000e+01  1.64951100e+01 -1.92250000e+00 -3.88242500e+02\n",
      " -1.64445500e+03 -1.55576320e+04 -8.75838300e+00 -1.19538096e+02\n",
      " -1.55696268e+02 -3.51289120e+01 -2.10993420e+01 -9.97889200e+00\n",
      "  7.08636600e+03 -5.61684000e+03  1.99269400e+04 -8.89350000e+03\n",
      " -5.56926600e+01 -1.27614775e+03 -1.52706850e+03 -4.16972560e+02\n",
      " -2.02190100e+02 -7.87201400e+01] epoch= 193\n",
      "The accuracy on train data is  92.96875 %\n",
      "The accuracy on test data is  91.22807017543859 %\n"
     ]
    }
   ],
   "source": [
    "perceptron = Perceptron()\n",
    "max_accuracy,best_w,best_b,best_e = perceptron.fit(X_train,Y_train,300)\n",
    "\n",
    "print('The max accuracy is ',max_accuracy*100,'%','best params are b=',best_b,'w=',best_w,'epoch=',best_e)\n",
    "Y_pred_train = perceptron.predict(X_train)\n",
    "print('The accuracy on train data is ',accuracy_score(Y_pred_train,Y_train)*100,'%')\n",
    "Y_pred_test = perceptron.predict(X_test)\n",
    "print('The accuracy on test data is ',accuracy_score(Y_pred_test,Y_test)*100,'%')"
   ]
  },
  {
   "cell_type": "markdown",
   "metadata": {},
   "source": [
    "**So from the above results we can infer that best training parameters were at epoch 0,1,32,34,42,43,60,193**\n",
    "**We can also infer one more thing from the above result is that best model on the train data will not always give best result on the test data and this can be seen when we plug parameters of epoch 60 we got best test result of 94% accuracy and the traing accuracy was 92.7% but at epoch 193 the testing accuracy is 91.2% and the training accuracy is 97.9%. So by comparing the accuracies of train and test we can conclude that the model is OVERFITTING (train accuracy > test accuracy)**\n",
    "\n",
    "-------"
   ]
  },
  {
   "cell_type": "markdown",
   "metadata": {},
   "source": [
    "If we look at the graph result we can see that there are many steep curves and these steep curves are formed due the large weight updates which can be seen from the equation $w+x$ and $w-x$ where the weights update happens with respect to the values of x and this is causing such steep curves. We can minimize this steepness by updating the weight taking only the fraction of the $x$ that is by $0.1*x$ and this $0.1$ is called the learning rate."
   ]
  },
  {
   "cell_type": "markdown",
   "metadata": {},
   "source": [
    "## Implementing learning rate"
   ]
  },
  {
   "cell_type": "code",
   "execution_count": 66,
   "metadata": {},
   "outputs": [],
   "source": [
    "# X_train = X_train.values\n",
    "# X_test = X_test.values\n",
    "class Perceptron:\n",
    "    def __init__(self):\n",
    "        self.b = None\n",
    "        self.w = None\n",
    "        \n",
    "    def model(self,x):\n",
    "        return 1 if(np.dot(self.w,x) >= self.b) else 0\n",
    "    \n",
    "    def predict(self,X):\n",
    "        Y = []\n",
    "        for x in X:\n",
    "            result = self.model(x)\n",
    "            Y.append(result)\n",
    "        return np.array(Y)\n",
    "    \n",
    "    def fit(self,X,Y,epochs=1,lr=1):\n",
    "        self.w = np.ones(X.shape[1])\n",
    "        self.b = 0\n",
    "        accuracy ={}\n",
    "        best_b = 0\n",
    "        best_w = 0\n",
    "        max_accuracy = 0\n",
    "        for i in range(epochs):\n",
    "            for x,y in zip(X,Y):\n",
    "                y_pred = self.model(x) #get the prediction\n",
    "                if y_pred == 0 and y ==1:\n",
    "                    self.w = self.w+lr*x #weight update\n",
    "                    self.b = self.b+1#bias update\n",
    "                elif y_pred == 1 and y ==0:\n",
    "                    self.w = self.w-lr*x#weight update\n",
    "                    self.b = self.b-1#bias update\n",
    "            \n",
    "            accuracy[i] = accuracy_score(self.predict(X),Y)\n",
    "            if max_accuracy < accuracy[i]:\n",
    "                print('epoch no =',i,'and the training accuracy is=',accuracy[i]*100)\n",
    "                max_accuracy = accuracy[i]\n",
    "                best_b =self.b\n",
    "                best_w =self.w\n",
    "                best_e = i\n",
    "        #implementing also the checkpoints so that we can evaluate the checkpoint model on the train data\n",
    "        self.b = best_b\n",
    "        self.w = best_w\n",
    "        ################################################\n",
    "        plt.plot(list(accuracy.values()))\n",
    "        plt.show()\n",
    "        return (max_accuracy,best_w,best_b,best_e)"
   ]
  },
  {
   "cell_type": "code",
   "execution_count": 67,
   "metadata": {},
   "outputs": [
    {
     "name": "stdout",
     "output_type": "stream",
     "text": [
      "epoch no = 0 and the training accuracy is= 37.3046875\n",
      "epoch no = 1 and the training accuracy is= 90.4296875\n",
      "epoch no = 23 and the training accuracy is= 90.625\n",
      "epoch no = 26 and the training accuracy is= 91.015625\n",
      "epoch no = 33 and the training accuracy is= 91.6015625\n",
      "epoch no = 37 and the training accuracy is= 91.9921875\n",
      "epoch no = 42 and the training accuracy is= 92.3828125\n",
      "epoch no = 190 and the training accuracy is= 92.7734375\n",
      "epoch no = 356 and the training accuracy is= 92.96875\n",
      "epoch no = 769 and the training accuracy is= 93.1640625\n",
      "epoch no = 851 and the training accuracy is= 93.359375\n",
      "epoch no = 905 and the training accuracy is= 93.5546875\n",
      "epoch no = 1796 and the training accuracy is= 93.75\n",
      "epoch no = 2076 and the training accuracy is= 93.9453125\n",
      "epoch no = 4139 and the training accuracy is= 94.140625\n"
     ]
    },
    {
     "data": {
      "image/png": "[encoded data removed]",
      "text/plain": [
       "<Figure size 432x288 with 1 Axes>"
      ]
     },
     "metadata": {
      "needs_background": "light"
     },
     "output_type": "display_data"
    },
    {
     "name": "stdout",
     "output_type": "stream",
     "text": [
      "The max accuracy is  94.140625 % best params are b= 8346 w= [ 5.47254260e+02  2.12141400e+02  1.19100740e+03 -3.42150000e+01\n",
      " -8.65027530e+00 -6.48535772e+01 -8.88459700e+01 -3.65403270e+01\n",
      " -1.67161280e+01 -1.80629070e+00  1.84709700e+01  9.45725700e+00\n",
      " -1.16130527e+02 -1.67311230e+02 -8.12969010e-01 -1.78170045e+01\n",
      " -2.33894297e+01 -4.89430514e+00 -4.62010956e+00 -7.79616922e-01\n",
      "  5.78733560e+02 -4.00170600e+02 -4.14002400e+02 -4.98030000e+01\n",
      " -2.05074369e+01 -2.13178300e+02 -2.48897017e+02 -7.42918678e+01\n",
      " -6.14544120e+01 -1.75411007e+01] epoch= 4139\n",
      "The accuracy on train data is  94.140625 %\n",
      "The accuracy on test data is  94.73684210526315 %\n"
     ]
    }
   ],
   "source": [
    "perceptron = Perceptron()\n",
    "max_accuracy,best_w,best_b,best_e = perceptron.fit(X_train,Y_train,10000,0.01)\n",
    "\n",
    "print('The max accuracy is ',max_accuracy*100,'%','best params are b=',best_b,'w=',best_w,'epoch=',best_e)\n",
    "Y_pred_train = perceptron.predict(X_train)\n",
    "print('The accuracy on train data is ',accuracy_score(Y_pred_train,Y_train)*100,'%')\n",
    "Y_pred_test = perceptron.predict(X_test)\n",
    "print('The accuracy on test data is ',accuracy_score(Y_pred_test,Y_test)*100,'%')"
   ]
  },
  {
   "cell_type": "markdown",
   "metadata": {},
   "source": [
    "## Adding the test predictions into the training loop\n",
    "Here we will be saving those parameters which gives us the best testing accuracy values"
   ]
  },
  {
   "cell_type": "code",
   "execution_count": 80,
   "metadata": {},
   "outputs": [],
   "source": [
    "# X_train = X_train.values\n",
    "# X_test = X_test.values\n",
    "class Perceptron:\n",
    "    def __init__(self):\n",
    "        self.b = None\n",
    "        self.w = None\n",
    "        \n",
    "    def model(self,x):\n",
    "        return 1 if(np.dot(self.w,x) >= self.b) else 0\n",
    "    \n",
    "    def predict(self,X):\n",
    "        Y = []\n",
    "        for x in X:\n",
    "            result = self.model(x)\n",
    "            Y.append(result)\n",
    "        return np.array(Y)\n",
    "    \n",
    "    def fit(self,X,Y,X_test,Y_test,epochs=1,lr=1):\n",
    "        self.w = np.ones(X.shape[1])\n",
    "        self.b = 0\n",
    "        accuracy ={}\n",
    "        accuracy_test={}\n",
    "        best_b = 0\n",
    "        best_w = 0\n",
    "        max_accuracy = 0\n",
    "        for i in range(epochs):\n",
    "            for x,y in zip(X,Y):\n",
    "                y_pred = self.model(x) #get the prediction\n",
    "                if y_pred == 0 and y ==1:\n",
    "                    self.w = self.w+lr*x #weight update\n",
    "                    self.b = self.b+1#bias update\n",
    "                elif y_pred == 1 and y ==0:\n",
    "                    self.w = self.w-lr*x#weight update\n",
    "                    self.b = self.b-1#bias update\n",
    "            \n",
    "            accuracy[i] = accuracy_score(self.predict(X),Y)\n",
    "            accuracy_test[i] = accuracy_score(self.predict(X_test),Y_test)\n",
    "            \n",
    "            if max_accuracy < accuracy_test[i]:\n",
    "                print('epoch no =',i,'and the training accuracy is=',accuracy[i]*100,'and the testing accuracy is=',accuracy_test[i]*100)\n",
    "                max_accuracy = accuracy_test[i]\n",
    "                best_b =self.b\n",
    "                best_w =self.w\n",
    "                best_e = i\n",
    "        #implementing also the checkpoints so that we can evaluate the checkpoint model on the test data\n",
    "        self.b = best_b\n",
    "        self.w = best_w\n",
    "        ################################################\n",
    "        plt.plot(list(accuracy.values()))\n",
    "        plt.plot(list(accuracy_test.values()))\n",
    "        plt.figure(figsize=(100,100))\n",
    "        plt.show()\n",
    "        return (max_accuracy,best_w,best_b,best_e)"
   ]
  },
  {
   "cell_type": "code",
   "execution_count": 81,
   "metadata": {},
   "outputs": [
    {
     "name": "stdout",
     "output_type": "stream",
     "text": [
      "epoch no = 0 and the training accuracy is= 37.3046875 and the testing accuracy is= 36.84210526315789\n",
      "epoch no = 1 and the training accuracy is= 90.4296875 and the testing accuracy is= 91.22807017543859\n",
      "epoch no = 16 and the training accuracy is= 90.234375 and the testing accuracy is= 92.98245614035088\n",
      "epoch no = 20 and the training accuracy is= 90.4296875 and the testing accuracy is= 94.73684210526315\n",
      "epoch no = 125 and the training accuracy is= 92.1875 and the testing accuracy is= 96.49122807017544\n"
     ]
    },
    {
     "data": {
      "image/png": "[encoded data removed]",
      "text/plain": [
       "<Figure size 432x288 with 1 Axes>"
      ]
     },
     "metadata": {
      "needs_background": "light"
     },
     "output_type": "display_data"
    },
    {
     "data": {
      "text/plain": [
       "<Figure size 7200x7200 with 0 Axes>"
      ]
     },
     "metadata": {},
     "output_type": "display_data"
    },
    {
     "name": "stdout",
     "output_type": "stream",
     "text": [
      "The max accuracy is  96.49122807017544 % best params are b= 764 w= [ 5.63231400e+01  9.12100000e+00  2.62301800e+02  5.02390000e+01\n",
      "  1.10824090e+00 -1.22643570e+00 -2.53687749e+00 -4.21003020e-01\n",
      "  1.13813500e+00  1.19478400e+00  9.29514000e-01 -5.68223000e-01\n",
      " -9.63190700e+00 -1.33950590e+02  9.46100040e-01  2.44838880e-01\n",
      "  1.35311660e-02  7.77110710e-01  8.77039280e-01  9.34325188e-01\n",
      "  5.86073600e+01 -1.60989000e+01  2.04706400e+02 -8.96070000e+01\n",
      "  8.16235000e-01 -6.95843930e+00 -8.68579396e+00 -1.63056832e+00\n",
      "  8.24960000e-02  6.25298200e-01] epoch= 125\n",
      "The accuracy on train data is  92.1875 %\n",
      "The accuracy on test data is  96.49122807017544 %\n"
     ]
    }
   ],
   "source": [
    "perceptron = Perceptron()\n",
    "max_accuracy,best_w,best_b,best_e = perceptron.fit(X_train,Y_train,X_test,Y_test,10000,0.01)\n",
    "\n",
    "print('The max accuracy is ',max_accuracy*100,'%','best params are b=',best_b,'w=',best_w,'epoch=',best_e)\n",
    "Y_pred_train = perceptron.predict(X_train)\n",
    "print('The accuracy on train data is ',accuracy_score(Y_pred_train,Y_train)*100,'%')\n",
    "Y_pred_test = perceptron.predict(X_test)\n",
    "print('The accuracy on test data is ',accuracy_score(Y_pred_test,Y_test)*100,'%')"
   ]
  },
  {
   "cell_type": "markdown",
   "metadata": {},
   "source": [
    "If we look at the above result we can see that the model is at epoch no=125 **UNDERFITTING the data as the training accuracy < testing accuracy.**"
   ]
  },
  {
   "cell_type": "markdown",
   "metadata": {},
   "source": [
    "## Best model\n",
    "A best is the one which does not overfit as well as underfit"
   ]
  },
  {
   "cell_type": "code",
   "execution_count": 82,
   "metadata": {},
   "outputs": [],
   "source": [
    "# X_train = X_train.values\n",
    "# X_test = X_test.values\n",
    "class Perceptron:\n",
    "    def __init__(self):\n",
    "        self.b = None\n",
    "        self.w = None\n",
    "        \n",
    "    def model(self,x):\n",
    "        return 1 if(np.dot(self.w,x) >= self.b) else 0\n",
    "    \n",
    "    def predict(self,X):\n",
    "        Y = []\n",
    "        for x in X:\n",
    "            result = self.model(x)\n",
    "            Y.append(result)\n",
    "        return np.array(Y)\n",
    "    \n",
    "    def fit(self,X,Y,X_test,Y_test,epochs=1,lr=1):\n",
    "        self.w = np.ones(X.shape[1])\n",
    "        self.b = 0\n",
    "        accuracy ={}\n",
    "        accuracy_test={}\n",
    "        best_b = 0\n",
    "        best_w = 0\n",
    "        max_accuracy = 0\n",
    "        for i in range(epochs):\n",
    "            for x,y in zip(X,Y):\n",
    "                y_pred = self.model(x) #get the prediction\n",
    "                if y_pred == 0 and y ==1:\n",
    "                    self.w = self.w+lr*x #weight update\n",
    "                    self.b = self.b+1#bias update\n",
    "                elif y_pred == 1 and y ==0:\n",
    "                    self.w = self.w-lr*x#weight update\n",
    "                    self.b = self.b-1#bias update\n",
    "            \n",
    "            accuracy[i] = accuracy_score(self.predict(X),Y)\n",
    "            accuracy_test[i] = accuracy_score(self.predict(X_test),Y_test)\n",
    "            \n",
    "            if max_accuracy < accuracy[i]:\n",
    "                print('epoch no =',i,'and the training accuracy is=',accuracy[i]*100,'and the testing accuracy is=',accuracy_test[i]*100)\n",
    "                max_accuracy = accuracy[i]\n",
    "                best_b =self.b\n",
    "                best_w =self.w\n",
    "                best_e = i\n",
    "        #implementing also the checkpoints so that we can evaluate the checkpoint model on the test data\n",
    "        self.b = best_b\n",
    "        self.w = best_w\n",
    "        ################################################\n",
    "        plt.plot(list(accuracy.values()))\n",
    "        plt.plot(list(accuracy_test.values()))\n",
    "        plt.figure(figsize=(100,100))\n",
    "        plt.show()\n",
    "        return (max_accuracy,best_w,best_b,best_e)"
   ]
  },
  {
   "cell_type": "code",
   "execution_count": 83,
   "metadata": {},
   "outputs": [
    {
     "name": "stdout",
     "output_type": "stream",
     "text": [
      "epoch no = 0 and the training accuracy is= 37.3046875 and the testing accuracy is= 36.84210526315789\n",
      "epoch no = 1 and the training accuracy is= 90.4296875 and the testing accuracy is= 91.22807017543859\n",
      "epoch no = 23 and the training accuracy is= 90.625 and the testing accuracy is= 94.73684210526315\n",
      "epoch no = 26 and the training accuracy is= 91.015625 and the testing accuracy is= 94.73684210526315\n",
      "epoch no = 33 and the training accuracy is= 91.6015625 and the testing accuracy is= 92.98245614035088\n",
      "epoch no = 37 and the training accuracy is= 91.9921875 and the testing accuracy is= 92.98245614035088\n",
      "epoch no = 42 and the training accuracy is= 92.3828125 and the testing accuracy is= 94.73684210526315\n",
      "epoch no = 190 and the training accuracy is= 92.7734375 and the testing accuracy is= 91.22807017543859\n",
      "epoch no = 356 and the training accuracy is= 92.96875 and the testing accuracy is= 92.98245614035088\n",
      "epoch no = 769 and the training accuracy is= 93.1640625 and the testing accuracy is= 91.22807017543859\n",
      "epoch no = 851 and the training accuracy is= 93.359375 and the testing accuracy is= 91.22807017543859\n",
      "epoch no = 905 and the training accuracy is= 93.5546875 and the testing accuracy is= 91.22807017543859\n",
      "epoch no = 1796 and the training accuracy is= 93.75 and the testing accuracy is= 92.98245614035088\n",
      "epoch no = 2076 and the training accuracy is= 93.9453125 and the testing accuracy is= 92.98245614035088\n",
      "epoch no = 4139 and the training accuracy is= 94.140625 and the testing accuracy is= 94.73684210526315\n"
     ]
    },
    {
     "data": {
      "image/png": "[encoded data removed]",
      "text/plain": [
       "<Figure size 432x288 with 1 Axes>"
      ]
     },
     "metadata": {
      "needs_background": "light"
     },
     "output_type": "display_data"
    },
    {
     "data": {
      "text/plain": [
       "<Figure size 7200x7200 with 0 Axes>"
      ]
     },
     "metadata": {},
     "output_type": "display_data"
    },
    {
     "name": "stdout",
     "output_type": "stream",
     "text": [
      "The max accuracy is  94.140625 % best params are b= 8346 w= [ 5.47254260e+02  2.12141400e+02  1.19100740e+03 -3.42150000e+01\n",
      " -8.65027530e+00 -6.48535772e+01 -8.88459700e+01 -3.65403270e+01\n",
      " -1.67161280e+01 -1.80629070e+00  1.84709700e+01  9.45725700e+00\n",
      " -1.16130527e+02 -1.67311230e+02 -8.12969010e-01 -1.78170045e+01\n",
      " -2.33894297e+01 -4.89430514e+00 -4.62010956e+00 -7.79616922e-01\n",
      "  5.78733560e+02 -4.00170600e+02 -4.14002400e+02 -4.98030000e+01\n",
      " -2.05074369e+01 -2.13178300e+02 -2.48897017e+02 -7.42918678e+01\n",
      " -6.14544120e+01 -1.75411007e+01] epoch= 4139\n",
      "The accuracy on train data is  94.140625 %\n",
      "The accuracy on test data is  94.73684210526315 %\n"
     ]
    }
   ],
   "source": [
    "perceptron = Perceptron()\n",
    "max_accuracy,best_w,best_b,best_e = perceptron.fit(X_train,Y_train,X_test,Y_test,10000,0.01)\n",
    "\n",
    "print('The max accuracy is ',max_accuracy*100,'%','best params are b=',best_b,'w=',best_w,'epoch=',best_e)\n",
    "Y_pred_train = perceptron.predict(X_train)\n",
    "print('The accuracy on train data is ',accuracy_score(Y_pred_train,Y_train)*100,'%')\n",
    "Y_pred_test = perceptron.predict(X_test)\n",
    "print('The accuracy on test data is ',accuracy_score(Y_pred_test,Y_test)*100,'%')"
   ]
  },
  {
   "cell_type": "markdown",
   "metadata": {},
   "source": [
    "**Therefore the best model is at the epoch 4139 where the training and testing accuracy is 94.14% and 94.73% respectively**"
   ]
  },
  {
   "cell_type": "markdown",
   "metadata": {},
   "source": [
    "# Go Back the DeepBook\n",
    "[DeepBook](../../DeepBook.ipynb)"
   ]
  },
  {
   "cell_type": "code",
   "execution_count": null,
   "metadata": {},
   "outputs": [],
   "source": []
  }
 ],
 "metadata": {
  "kernelspec": {
   "display_name": "Python 3",
   "language": "python",
   "name": "python3"
  },
  "language_info": {
   "codemirror_mode": {
    "name": "ipython",
    "version": 3
   },
   "file_extension": ".py",
   "mimetype": "text/x-python",
   "name": "python",
   "nbconvert_exporter": "python",
   "pygments_lexer": "ipython3",
   "version": "3.7.6"
  }
 },
 "nbformat": 4,
 "nbformat_minor": 4
}
